{
 "cells": [
  {
   "cell_type": "code",
   "execution_count": 2,
   "id": "d06d07dc",
   "metadata": {},
   "outputs": [],
   "source": [
    "import  os\n",
    "import  numpy as  np \n",
    "import  warnings\n",
    "import  pandas as  pd\n",
    "import  plotly.express as px\n",
    "warnings.filterwarnings(\"ignore\")"
   ]
  },
  {
   "cell_type": "code",
   "execution_count": 3,
   "id": "c28c9936",
   "metadata": {},
   "outputs": [
    {
     "data": {
      "text/html": [
       "<div>\n",
       "<style scoped>\n",
       "    .dataframe tbody tr th:only-of-type {\n",
       "        vertical-align: middle;\n",
       "    }\n",
       "\n",
       "    .dataframe tbody tr th {\n",
       "        vertical-align: top;\n",
       "    }\n",
       "\n",
       "    .dataframe thead th {\n",
       "        text-align: right;\n",
       "    }\n",
       "</style>\n",
       "<table border=\"1\" class=\"dataframe\">\n",
       "  <thead>\n",
       "    <tr style=\"text-align: right;\">\n",
       "      <th></th>\n",
       "      <th>Unnamed: 0</th>\n",
       "      <th>MPG</th>\n",
       "      <th>Cylinders</th>\n",
       "      <th>Displacement</th>\n",
       "      <th>Horsepower</th>\n",
       "      <th>Weight</th>\n",
       "      <th>Acceleration</th>\n",
       "      <th>Model Year</th>\n",
       "      <th>Origin</th>\n",
       "    </tr>\n",
       "  </thead>\n",
       "  <tbody>\n",
       "    <tr>\n",
       "      <th>0</th>\n",
       "      <td>0</td>\n",
       "      <td>18.0</td>\n",
       "      <td>8</td>\n",
       "      <td>307.0</td>\n",
       "      <td>130.0</td>\n",
       "      <td>3504.0</td>\n",
       "      <td>12.0</td>\n",
       "      <td>70</td>\n",
       "      <td>USA</td>\n",
       "    </tr>\n",
       "    <tr>\n",
       "      <th>1</th>\n",
       "      <td>1</td>\n",
       "      <td>15.0</td>\n",
       "      <td>8</td>\n",
       "      <td>350.0</td>\n",
       "      <td>165.0</td>\n",
       "      <td>3693.0</td>\n",
       "      <td>11.5</td>\n",
       "      <td>70</td>\n",
       "      <td>USA</td>\n",
       "    </tr>\n",
       "    <tr>\n",
       "      <th>2</th>\n",
       "      <td>2</td>\n",
       "      <td>18.0</td>\n",
       "      <td>8</td>\n",
       "      <td>318.0</td>\n",
       "      <td>150.0</td>\n",
       "      <td>3436.0</td>\n",
       "      <td>11.0</td>\n",
       "      <td>70</td>\n",
       "      <td>USA</td>\n",
       "    </tr>\n",
       "    <tr>\n",
       "      <th>3</th>\n",
       "      <td>3</td>\n",
       "      <td>16.0</td>\n",
       "      <td>8</td>\n",
       "      <td>304.0</td>\n",
       "      <td>150.0</td>\n",
       "      <td>3433.0</td>\n",
       "      <td>12.0</td>\n",
       "      <td>70</td>\n",
       "      <td>USA</td>\n",
       "    </tr>\n",
       "    <tr>\n",
       "      <th>4</th>\n",
       "      <td>4</td>\n",
       "      <td>17.0</td>\n",
       "      <td>8</td>\n",
       "      <td>302.0</td>\n",
       "      <td>140.0</td>\n",
       "      <td>3449.0</td>\n",
       "      <td>10.5</td>\n",
       "      <td>70</td>\n",
       "      <td>USA</td>\n",
       "    </tr>\n",
       "  </tbody>\n",
       "</table>\n",
       "</div>"
      ],
      "text/plain": [
       "   Unnamed: 0   MPG  Cylinders  Displacement  Horsepower  Weight  \\\n",
       "0           0  18.0          8         307.0       130.0  3504.0   \n",
       "1           1  15.0          8         350.0       165.0  3693.0   \n",
       "2           2  18.0          8         318.0       150.0  3436.0   \n",
       "3           3  16.0          8         304.0       150.0  3433.0   \n",
       "4           4  17.0          8         302.0       140.0  3449.0   \n",
       "\n",
       "   Acceleration  Model Year Origin  \n",
       "0          12.0          70    USA  \n",
       "1          11.5          70    USA  \n",
       "2          11.0          70    USA  \n",
       "3          12.0          70    USA  \n",
       "4          10.5          70    USA  "
      ]
     },
     "execution_count": 3,
     "metadata": {},
     "output_type": "execute_result"
    }
   ],
   "source": [
    "df = pd.read_csv(\"Documents/auto_mpg@wambugu.csv\", low_memory=True)\n",
    "df.head()"
   ]
  },
  {
   "cell_type": "code",
   "execution_count": 4,
   "id": "5963f71c",
   "metadata": {},
   "outputs": [
    {
     "data": {
      "text/plain": [
       "Unnamed: 0      0\n",
       "MPG             0\n",
       "Cylinders       0\n",
       "Displacement    0\n",
       "Horsepower      6\n",
       "Weight          0\n",
       "Acceleration    0\n",
       "Model Year      0\n",
       "Origin          0\n",
       "dtype: int64"
      ]
     },
     "execution_count": 4,
     "metadata": {},
     "output_type": "execute_result"
    }
   ],
   "source": [
    "df.isna().sum()"
   ]
  },
  {
   "cell_type": "code",
   "execution_count": 5,
   "id": "59f5f731",
   "metadata": {},
   "outputs": [],
   "source": [
    "df.fillna(df.mean(), inplace=True)"
   ]
  },
  {
   "cell_type": "code",
   "execution_count": 6,
   "id": "330ed657",
   "metadata": {},
   "outputs": [
    {
     "data": {
      "text/plain": [
       "Index(['Unnamed: 0', 'MPG', 'Cylinders', 'Displacement', 'Horsepower',\n",
       "       'Weight', 'Acceleration', 'Model Year', 'Origin'],\n",
       "      dtype='object')"
      ]
     },
     "execution_count": 6,
     "metadata": {},
     "output_type": "execute_result"
    }
   ],
   "source": [
    "df.columns"
   ]
  },
  {
   "cell_type": "code",
   "execution_count": 7,
   "id": "d022eceb",
   "metadata": {},
   "outputs": [],
   "source": [
    "df.drop(['Unnamed: 0'], inplace=True, axis=1)"
   ]
  },
  {
   "cell_type": "code",
   "execution_count": 8,
   "id": "4e3a10df",
   "metadata": {},
   "outputs": [
    {
     "data": {
      "text/html": [
       "<div>\n",
       "<style scoped>\n",
       "    .dataframe tbody tr th:only-of-type {\n",
       "        vertical-align: middle;\n",
       "    }\n",
       "\n",
       "    .dataframe tbody tr th {\n",
       "        vertical-align: top;\n",
       "    }\n",
       "\n",
       "    .dataframe thead th {\n",
       "        text-align: right;\n",
       "    }\n",
       "</style>\n",
       "<table border=\"1\" class=\"dataframe\">\n",
       "  <thead>\n",
       "    <tr style=\"text-align: right;\">\n",
       "      <th></th>\n",
       "      <th>MPG</th>\n",
       "      <th>Cylinders</th>\n",
       "      <th>Displacement</th>\n",
       "      <th>Horsepower</th>\n",
       "      <th>Weight</th>\n",
       "      <th>Acceleration</th>\n",
       "      <th>Model Year</th>\n",
       "      <th>Origin</th>\n",
       "    </tr>\n",
       "  </thead>\n",
       "  <tbody>\n",
       "    <tr>\n",
       "      <th>0</th>\n",
       "      <td>18.0</td>\n",
       "      <td>8</td>\n",
       "      <td>307.0</td>\n",
       "      <td>130.0</td>\n",
       "      <td>3504.0</td>\n",
       "      <td>12.0</td>\n",
       "      <td>70</td>\n",
       "      <td>USA</td>\n",
       "    </tr>\n",
       "    <tr>\n",
       "      <th>1</th>\n",
       "      <td>15.0</td>\n",
       "      <td>8</td>\n",
       "      <td>350.0</td>\n",
       "      <td>165.0</td>\n",
       "      <td>3693.0</td>\n",
       "      <td>11.5</td>\n",
       "      <td>70</td>\n",
       "      <td>USA</td>\n",
       "    </tr>\n",
       "    <tr>\n",
       "      <th>2</th>\n",
       "      <td>18.0</td>\n",
       "      <td>8</td>\n",
       "      <td>318.0</td>\n",
       "      <td>150.0</td>\n",
       "      <td>3436.0</td>\n",
       "      <td>11.0</td>\n",
       "      <td>70</td>\n",
       "      <td>USA</td>\n",
       "    </tr>\n",
       "    <tr>\n",
       "      <th>3</th>\n",
       "      <td>16.0</td>\n",
       "      <td>8</td>\n",
       "      <td>304.0</td>\n",
       "      <td>150.0</td>\n",
       "      <td>3433.0</td>\n",
       "      <td>12.0</td>\n",
       "      <td>70</td>\n",
       "      <td>USA</td>\n",
       "    </tr>\n",
       "    <tr>\n",
       "      <th>4</th>\n",
       "      <td>17.0</td>\n",
       "      <td>8</td>\n",
       "      <td>302.0</td>\n",
       "      <td>140.0</td>\n",
       "      <td>3449.0</td>\n",
       "      <td>10.5</td>\n",
       "      <td>70</td>\n",
       "      <td>USA</td>\n",
       "    </tr>\n",
       "    <tr>\n",
       "      <th>...</th>\n",
       "      <td>...</td>\n",
       "      <td>...</td>\n",
       "      <td>...</td>\n",
       "      <td>...</td>\n",
       "      <td>...</td>\n",
       "      <td>...</td>\n",
       "      <td>...</td>\n",
       "      <td>...</td>\n",
       "    </tr>\n",
       "    <tr>\n",
       "      <th>393</th>\n",
       "      <td>27.0</td>\n",
       "      <td>4</td>\n",
       "      <td>140.0</td>\n",
       "      <td>86.0</td>\n",
       "      <td>2790.0</td>\n",
       "      <td>15.6</td>\n",
       "      <td>82</td>\n",
       "      <td>USA</td>\n",
       "    </tr>\n",
       "    <tr>\n",
       "      <th>394</th>\n",
       "      <td>44.0</td>\n",
       "      <td>4</td>\n",
       "      <td>97.0</td>\n",
       "      <td>52.0</td>\n",
       "      <td>2130.0</td>\n",
       "      <td>24.6</td>\n",
       "      <td>82</td>\n",
       "      <td>Europe</td>\n",
       "    </tr>\n",
       "    <tr>\n",
       "      <th>395</th>\n",
       "      <td>32.0</td>\n",
       "      <td>4</td>\n",
       "      <td>135.0</td>\n",
       "      <td>84.0</td>\n",
       "      <td>2295.0</td>\n",
       "      <td>11.6</td>\n",
       "      <td>82</td>\n",
       "      <td>USA</td>\n",
       "    </tr>\n",
       "    <tr>\n",
       "      <th>396</th>\n",
       "      <td>28.0</td>\n",
       "      <td>4</td>\n",
       "      <td>120.0</td>\n",
       "      <td>79.0</td>\n",
       "      <td>2625.0</td>\n",
       "      <td>18.6</td>\n",
       "      <td>82</td>\n",
       "      <td>USA</td>\n",
       "    </tr>\n",
       "    <tr>\n",
       "      <th>397</th>\n",
       "      <td>31.0</td>\n",
       "      <td>4</td>\n",
       "      <td>119.0</td>\n",
       "      <td>82.0</td>\n",
       "      <td>2720.0</td>\n",
       "      <td>19.4</td>\n",
       "      <td>82</td>\n",
       "      <td>USA</td>\n",
       "    </tr>\n",
       "  </tbody>\n",
       "</table>\n",
       "<p>398 rows × 8 columns</p>\n",
       "</div>"
      ],
      "text/plain": [
       "      MPG  Cylinders  Displacement  Horsepower  Weight  Acceleration  \\\n",
       "0    18.0          8         307.0       130.0  3504.0          12.0   \n",
       "1    15.0          8         350.0       165.0  3693.0          11.5   \n",
       "2    18.0          8         318.0       150.0  3436.0          11.0   \n",
       "3    16.0          8         304.0       150.0  3433.0          12.0   \n",
       "4    17.0          8         302.0       140.0  3449.0          10.5   \n",
       "..    ...        ...           ...         ...     ...           ...   \n",
       "393  27.0          4         140.0        86.0  2790.0          15.6   \n",
       "394  44.0          4          97.0        52.0  2130.0          24.6   \n",
       "395  32.0          4         135.0        84.0  2295.0          11.6   \n",
       "396  28.0          4         120.0        79.0  2625.0          18.6   \n",
       "397  31.0          4         119.0        82.0  2720.0          19.4   \n",
       "\n",
       "     Model Year  Origin  \n",
       "0            70     USA  \n",
       "1            70     USA  \n",
       "2            70     USA  \n",
       "3            70     USA  \n",
       "4            70     USA  \n",
       "..          ...     ...  \n",
       "393          82     USA  \n",
       "394          82  Europe  \n",
       "395          82     USA  \n",
       "396          82     USA  \n",
       "397          82     USA  \n",
       "\n",
       "[398 rows x 8 columns]"
      ]
     },
     "execution_count": 8,
     "metadata": {},
     "output_type": "execute_result"
    }
   ],
   "source": [
    "df"
   ]
  },
  {
   "cell_type": "code",
   "execution_count": 9,
   "id": "de03f897",
   "metadata": {},
   "outputs": [
    {
     "data": {
      "application/vnd.plotly.v1+json": {
       "config": {
        "plotlyServerURL": "https://plot.ly"
       },
       "data": [
        {
         "hovertemplate": "<b>%{hovertext}</b><br><br>Origin=USA<br>Model Year=70<br>Acceleration=%{x}<br>MPG=%{y}<extra></extra>",
         "hovertext": [
          130,
          165,
          150,
          150,
          140,
          198,
          220,
          215,
          225,
          190,
          170,
          160,
          150,
          225,
          95,
          97,
          85,
          90,
          215,
          200,
          210,
          193
         ],
         "ids": [
          130,
          165,
          150,
          150,
          140,
          198,
          220,
          215,
          225,
          190,
          170,
          160,
          150,
          225,
          95,
          97,
          85,
          90,
          215,
          200,
          210,
          193
         ],
         "legendgroup": "USA",
         "marker": {
          "color": "#636efa",
          "symbol": "circle"
         },
         "mode": "markers",
         "name": "USA",
         "orientation": "v",
         "showlegend": true,
         "type": "scatter",
         "x": [
          12,
          11.5,
          11,
          12,
          10.5,
          10,
          9,
          8.5,
          10,
          8.5,
          10,
          8,
          9.5,
          10,
          15.5,
          15.5,
          16,
          15,
          14,
          15,
          13.5,
          18.5
         ],
         "xaxis": "x",
         "y": [
          18,
          15,
          18,
          16,
          17,
          15,
          14,
          14,
          14,
          15,
          15,
          14,
          15,
          14,
          22,
          18,
          21,
          21,
          10,
          10,
          11,
          9
         ],
         "yaxis": "y"
        },
        {
         "hovertemplate": "<b>%{hovertext}</b><br><br>Origin=Japan<br>Model Year=70<br>Acceleration=%{x}<br>MPG=%{y}<extra></extra>",
         "hovertext": [
          95,
          88
         ],
         "ids": [
          95,
          88
         ],
         "legendgroup": "Japan",
         "marker": {
          "color": "#EF553B",
          "symbol": "circle"
         },
         "mode": "markers",
         "name": "Japan",
         "orientation": "v",
         "showlegend": true,
         "type": "scatter",
         "x": [
          15,
          14.5
         ],
         "xaxis": "x",
         "y": [
          24,
          27
         ],
         "yaxis": "y"
        },
        {
         "hovertemplate": "<b>%{hovertext}</b><br><br>Origin=Europe<br>Model Year=70<br>Acceleration=%{x}<br>MPG=%{y}<extra></extra>",
         "hovertext": [
          46,
          87,
          90,
          95,
          113
         ],
         "ids": [
          46,
          87,
          90,
          95,
          113
         ],
         "legendgroup": "Europe",
         "marker": {
          "color": "#00cc96",
          "symbol": "circle"
         },
         "mode": "markers",
         "name": "Europe",
         "orientation": "v",
         "showlegend": true,
         "type": "scatter",
         "x": [
          20.5,
          17.5,
          14.5,
          17.5,
          12.5
         ],
         "xaxis": "x",
         "y": [
          26,
          25,
          24,
          25,
          26
         ],
         "yaxis": "y"
        }
       ],
       "frames": [
        {
         "data": [
          {
           "hovertemplate": "<b>%{hovertext}</b><br><br>Origin=USA<br>Model Year=70<br>Acceleration=%{x}<br>MPG=%{y}<extra></extra>",
           "hovertext": [
            130,
            165,
            150,
            150,
            140,
            198,
            220,
            215,
            225,
            190,
            170,
            160,
            150,
            225,
            95,
            97,
            85,
            90,
            215,
            200,
            210,
            193
           ],
           "ids": [
            130,
            165,
            150,
            150,
            140,
            198,
            220,
            215,
            225,
            190,
            170,
            160,
            150,
            225,
            95,
            97,
            85,
            90,
            215,
            200,
            210,
            193
           ],
           "legendgroup": "USA",
           "marker": {
            "color": "#636efa",
            "symbol": "circle"
           },
           "mode": "markers",
           "name": "USA",
           "orientation": "v",
           "showlegend": true,
           "type": "scatter",
           "x": [
            12,
            11.5,
            11,
            12,
            10.5,
            10,
            9,
            8.5,
            10,
            8.5,
            10,
            8,
            9.5,
            10,
            15.5,
            15.5,
            16,
            15,
            14,
            15,
            13.5,
            18.5
           ],
           "xaxis": "x",
           "y": [
            18,
            15,
            18,
            16,
            17,
            15,
            14,
            14,
            14,
            15,
            15,
            14,
            15,
            14,
            22,
            18,
            21,
            21,
            10,
            10,
            11,
            9
           ],
           "yaxis": "y"
          },
          {
           "hovertemplate": "<b>%{hovertext}</b><br><br>Origin=Japan<br>Model Year=70<br>Acceleration=%{x}<br>MPG=%{y}<extra></extra>",
           "hovertext": [
            95,
            88
           ],
           "ids": [
            95,
            88
           ],
           "legendgroup": "Japan",
           "marker": {
            "color": "#EF553B",
            "symbol": "circle"
           },
           "mode": "markers",
           "name": "Japan",
           "orientation": "v",
           "showlegend": true,
           "type": "scatter",
           "x": [
            15,
            14.5
           ],
           "xaxis": "x",
           "y": [
            24,
            27
           ],
           "yaxis": "y"
          },
          {
           "hovertemplate": "<b>%{hovertext}</b><br><br>Origin=Europe<br>Model Year=70<br>Acceleration=%{x}<br>MPG=%{y}<extra></extra>",
           "hovertext": [
            46,
            87,
            90,
            95,
            113
           ],
           "ids": [
            46,
            87,
            90,
            95,
            113
           ],
           "legendgroup": "Europe",
           "marker": {
            "color": "#00cc96",
            "symbol": "circle"
           },
           "mode": "markers",
           "name": "Europe",
           "orientation": "v",
           "showlegend": true,
           "type": "scatter",
           "x": [
            20.5,
            17.5,
            14.5,
            17.5,
            12.5
           ],
           "xaxis": "x",
           "y": [
            26,
            25,
            24,
            25,
            26
           ],
           "yaxis": "y"
          }
         ],
         "name": "70"
        },
        {
         "data": [
          {
           "hovertemplate": "<b>%{hovertext}</b><br><br>Origin=USA<br>Model Year=71<br>Acceleration=%{x}<br>MPG=%{y}<extra></extra>",
           "hovertext": [
            90,
            104.46938775510205,
            100,
            105,
            100,
            88,
            100,
            165,
            175,
            153,
            150,
            180,
            170,
            175,
            110,
            72,
            100,
            88,
            86,
            70
           ],
           "ids": [
            90,
            104.46938775510205,
            100,
            105,
            100,
            88,
            100,
            165,
            175,
            153,
            150,
            180,
            170,
            175,
            110,
            72,
            100,
            88,
            86,
            70
           ],
           "legendgroup": "USA",
           "marker": {
            "color": "#636efa",
            "symbol": "circle"
           },
           "mode": "markers",
           "name": "USA",
           "orientation": "v",
           "showlegend": true,
           "type": "scatter",
           "x": [
            15.5,
            19,
            13,
            15.5,
            15.5,
            15.5,
            15.5,
            12,
            11.5,
            13.5,
            13,
            11.5,
            12,
            12,
            13.5,
            19,
            15,
            14.5,
            14,
            20.5
           ],
           "xaxis": "x",
           "y": [
            28,
            25,
            19,
            16,
            17,
            19,
            18,
            14,
            14,
            14,
            14,
            12,
            13,
            13,
            18,
            22,
            19,
            18,
            23,
            26
           ],
           "yaxis": "y"
          },
          {
           "hovertemplate": "<b>%{hovertext}</b><br><br>Origin=Japan<br>Model Year=71<br>Acceleration=%{x}<br>MPG=%{y}<extra></extra>",
           "hovertext": [
            88,
            95,
            65,
            69
           ],
           "ids": [
            88,
            95,
            65,
            69
           ],
           "legendgroup": "Japan",
           "marker": {
            "color": "#EF553B",
            "symbol": "circle"
           },
           "mode": "markers",
           "name": "Japan",
           "orientation": "v",
           "showlegend": true,
           "type": "scatter",
           "x": [
            14.5,
            14,
            19,
            18
           ],
           "xaxis": "x",
           "y": [
            27,
            25,
            31,
            35
           ],
           "yaxis": "y"
          },
          {
           "hovertemplate": "<b>%{hovertext}</b><br><br>Origin=Europe<br>Model Year=71<br>Acceleration=%{x}<br>MPG=%{y}<extra></extra>",
           "hovertext": [
            90,
            70,
            76,
            60
           ],
           "ids": [
            90,
            70,
            76,
            60
           ],
           "legendgroup": "Europe",
           "marker": {
            "color": "#00cc96",
            "symbol": "circle"
           },
           "mode": "markers",
           "name": "Europe",
           "orientation": "v",
           "showlegend": true,
           "type": "scatter",
           "x": [
            14,
            19.5,
            14.5,
            19
           ],
           "xaxis": "x",
           "y": [
            28,
            30,
            30,
            27
           ],
           "yaxis": "y"
          }
         ],
         "name": "71"
        },
        {
         "data": [
          {
           "hovertemplate": "<b>%{hovertext}</b><br><br>Origin=USA<br>Model Year=72<br>Acceleration=%{x}<br>MPG=%{y}<extra></extra>",
           "hovertext": [
            80,
            90,
            86,
            165,
            175,
            150,
            153,
            150,
            208,
            155,
            160,
            190,
            150,
            130,
            140,
            150,
            86,
            80
           ],
           "ids": [
            80,
            90,
            86,
            165,
            175,
            150,
            153,
            150,
            208,
            155,
            160,
            190,
            150,
            130,
            140,
            150,
            86,
            80
           ],
           "legendgroup": "USA",
           "marker": {
            "color": "#636efa",
            "symbol": "circle"
           },
           "mode": "markers",
           "name": "USA",
           "orientation": "v",
           "showlegend": true,
           "type": "scatter",
           "x": [
            17,
            19.5,
            16.5,
            12,
            12,
            13.5,
            13,
            11.5,
            11,
            13.5,
            13.5,
            12.5,
            12.5,
            14,
            16,
            14,
            16,
            15
           ],
           "xaxis": "x",
           "y": [
            25,
            20,
            21,
            13,
            14,
            15,
            14,
            17,
            11,
            13,
            12,
            13,
            15,
            13,
            13,
            14,
            22,
            28
           ],
           "yaxis": "y"
          },
          {
           "hovertemplate": "<b>%{hovertext}</b><br><br>Origin=Japan<br>Model Year=72<br>Acceleration=%{x}<br>MPG=%{y}<extra></extra>",
           "hovertext": [
            95,
            97,
            92,
            97,
            88
           ],
           "ids": [
            95,
            97,
            92,
            97,
            88
           ],
           "legendgroup": "Japan",
           "marker": {
            "color": "#EF553B",
            "symbol": "circle"
           },
           "mode": "markers",
           "name": "Japan",
           "orientation": "v",
           "showlegend": true,
           "type": "scatter",
           "x": [
            15.5,
            13.5,
            17,
            14.5,
            16.5
           ],
           "xaxis": "x",
           "y": [
            24,
            19,
            28,
            23,
            27
           ],
           "yaxis": "y"
          },
          {
           "hovertemplate": "<b>%{hovertext}</b><br><br>Origin=Europe<br>Model Year=72<br>Acceleration=%{x}<br>MPG=%{y}<extra></extra>",
           "hovertext": [
            54,
            112,
            76,
            87,
            69
           ],
           "ids": [
            54,
            112,
            76,
            87,
            69
           ],
           "legendgroup": "Europe",
           "marker": {
            "color": "#00cc96",
            "symbol": "circle"
           },
           "mode": "markers",
           "name": "Europe",
           "orientation": "v",
           "showlegend": true,
           "type": "scatter",
           "x": [
            23.5,
            14.5,
            18,
            19.5,
            18
           ],
           "xaxis": "x",
           "y": [
            23,
            18,
            22,
            21,
            26
           ],
           "yaxis": "y"
          }
         ],
         "name": "72"
        },
        {
         "data": [
          {
           "hovertemplate": "<b>%{hovertext}</b><br><br>Origin=USA<br>Model Year=73<br>Acceleration=%{x}<br>MPG=%{y}<extra></extra>",
           "hovertext": [
            175,
            150,
            145,
            137,
            150,
            198,
            150,
            158,
            150,
            215,
            225,
            175,
            105,
            100,
            100,
            88,
            95,
            150,
            167,
            170,
            180,
            100,
            72,
            85,
            107,
            145,
            230,
            150,
            180
           ],
           "ids": [
            175,
            150,
            145,
            137,
            150,
            198,
            150,
            158,
            150,
            215,
            225,
            175,
            105,
            100,
            100,
            88,
            95,
            150,
            167,
            170,
            180,
            100,
            72,
            85,
            107,
            145,
            230,
            150,
            180
           ],
           "legendgroup": "USA",
           "marker": {
            "color": "#636efa",
            "symbol": "circle"
           },
           "mode": "markers",
           "name": "USA",
           "orientation": "v",
           "showlegend": true,
           "type": "scatter",
           "x": [
            13,
            11.5,
            13,
            14.5,
            12.5,
            11.5,
            12,
            13,
            14.5,
            11,
            11,
            11,
            16.5,
            18,
            16,
            16.5,
            16,
            14,
            12.5,
            13,
            12.5,
            15,
            19.5,
            18.5,
            14,
            13,
            9.5,
            11,
            11
           ],
           "xaxis": "x",
           "y": [
            13,
            14,
            13,
            14,
            15,
            12,
            13,
            13,
            14,
            13,
            12,
            13,
            18,
            16,
            18,
            18,
            23,
            11,
            12,
            13,
            12,
            18,
            21,
            19,
            21,
            15,
            16,
            15,
            11
           ],
           "yaxis": "y"
          },
          {
           "hovertemplate": "<b>%{hovertext}</b><br><br>Origin=Japan<br>Model Year=73<br>Acceleration=%{x}<br>MPG=%{y}<extra></extra>",
           "hovertext": [
            88,
            94,
            90,
            122
           ],
           "ids": [
            88,
            94,
            90,
            122
           ],
           "legendgroup": "Japan",
           "marker": {
            "color": "#EF553B",
            "symbol": "circle"
           },
           "mode": "markers",
           "name": "Japan",
           "orientation": "v",
           "showlegend": true,
           "type": "scatter",
           "x": [
            19,
            16.5,
            13.5,
            13.5
           ],
           "xaxis": "x",
           "y": [
            20,
            22,
            18,
            20
           ],
           "yaxis": "y"
          },
          {
           "hovertemplate": "<b>%{hovertext}</b><br><br>Origin=Europe<br>Model Year=73<br>Acceleration=%{x}<br>MPG=%{y}<extra></extra>",
           "hovertext": [
            46,
            90,
            49,
            75,
            91,
            112,
            110
           ],
           "ids": [
            46,
            90,
            49,
            75,
            91,
            112,
            110
           ],
           "legendgroup": "Europe",
           "marker": {
            "color": "#00cc96",
            "symbol": "circle"
           },
           "mode": "markers",
           "name": "Europe",
           "orientation": "v",
           "showlegend": true,
           "type": "scatter",
           "x": [
            21,
            15.5,
            19.5,
            15.5,
            14,
            15.5,
            14
           ],
           "xaxis": "x",
           "y": [
            26,
            26,
            29,
            24,
            20,
            19,
            24
           ],
           "yaxis": "y"
          }
         ],
         "name": "73"
        },
        {
         "data": [
          {
           "hovertemplate": "<b>%{hovertext}</b><br><br>Origin=USA<br>Model Year=74<br>Acceleration=%{x}<br>MPG=%{y}<extra></extra>",
           "hovertext": [
            95,
            104.46938775510205,
            100,
            100,
            80,
            75,
            100,
            110,
            105,
            140,
            150,
            150,
            140,
            150,
            75
           ],
           "ids": [
            95,
            104.46938775510205,
            100,
            100,
            80,
            75,
            100,
            110,
            105,
            140,
            150,
            150,
            140,
            150,
            75
           ],
           "legendgroup": "USA",
           "marker": {
            "color": "#636efa",
            "symbol": "circle"
           },
           "mode": "markers",
           "name": "USA",
           "orientation": "v",
           "showlegend": true,
           "type": "scatter",
           "x": [
            16.5,
            17,
            16,
            17,
            16.5,
            17,
            17,
            18,
            16.5,
            14,
            14.5,
            13.5,
            16,
            15.5,
            14.5
           ],
           "xaxis": "x",
           "y": [
            20,
            21,
            19,
            15,
            26,
            25,
            16,
            16,
            18,
            16,
            13,
            14,
            14,
            14,
            28
           ],
           "yaxis": "y"
          },
          {
           "hovertemplate": "<b>%{hovertext}</b><br><br>Origin=Japan<br>Model Year=74<br>Acceleration=%{x}<br>MPG=%{y}<extra></extra>",
           "hovertext": [
            67,
            65,
            52,
            61,
            97,
            93
           ],
           "ids": [
            67,
            65,
            52,
            61,
            97,
            93
           ],
           "legendgroup": "Japan",
           "marker": {
            "color": "#EF553B",
            "symbol": "circle"
           },
           "mode": "markers",
           "name": "Japan",
           "orientation": "v",
           "showlegend": true,
           "type": "scatter",
           "x": [
            19,
            21,
            16.5,
            19,
            15,
            15.5
           ],
           "xaxis": "x",
           "y": [
            31,
            32,
            31,
            32,
            24,
            26
           ],
           "yaxis": "y"
          },
          {
           "hovertemplate": "<b>%{hovertext}</b><br><br>Origin=Europe<br>Model Year=74<br>Acceleration=%{x}<br>MPG=%{y}<extra></extra>",
           "hovertext": [
            83,
            67,
            78,
            75,
            75,
            67
           ],
           "ids": [
            83,
            67,
            78,
            75,
            75,
            67
           ],
           "legendgroup": "Europe",
           "marker": {
            "color": "#00cc96",
            "symbol": "circle"
           },
           "mode": "markers",
           "name": "Europe",
           "orientation": "v",
           "showlegend": true,
           "type": "scatter",
           "x": [
            16.5,
            15.5,
            14.5,
            15.5,
            14,
            16
           ],
           "xaxis": "x",
           "y": [
            29,
            26,
            26,
            24,
            26,
            31
           ],
           "yaxis": "y"
          }
         ],
         "name": "74"
        },
        {
         "data": [
          {
           "hovertemplate": "<b>%{hovertext}</b><br><br>Origin=USA<br>Model Year=75<br>Acceleration=%{x}<br>MPG=%{y}<extra></extra>",
           "hovertext": [
            95,
            105,
            72,
            72,
            170,
            145,
            150,
            148,
            110,
            105,
            110,
            95,
            110,
            110,
            129,
            83,
            100,
            78,
            97,
            90
           ],
           "ids": [
            95,
            105,
            72,
            72,
            170,
            145,
            150,
            148,
            110,
            105,
            110,
            95,
            110,
            110,
            129,
            83,
            100,
            78,
            97,
            90
           ],
           "legendgroup": "USA",
           "marker": {
            "color": "#636efa",
            "symbol": "circle"
           },
           "mode": "markers",
           "name": "USA",
           "orientation": "v",
           "showlegend": true,
           "type": "scatter",
           "x": [
            16,
            16,
            21,
            19.5,
            11.5,
            14,
            14.5,
            13.5,
            21,
            18.5,
            19,
            19,
            15,
            13.5,
            12,
            17,
            16,
            18.5,
            14.5,
            17
           ],
           "xaxis": "x",
           "y": [
            19,
            18,
            15,
            15,
            16,
            15,
            16,
            14,
            17,
            16,
            15,
            18,
            21,
            20,
            13,
            23,
            20,
            23,
            18,
            19
           ],
           "yaxis": "y"
          },
          {
           "hovertemplate": "<b>%{hovertext}</b><br><br>Origin=Japan<br>Model Year=75<br>Acceleration=%{x}<br>MPG=%{y}<extra></extra>",
           "hovertext": [
            75,
            96,
            97,
            53
           ],
           "ids": [
            75,
            96,
            97,
            53
           ],
           "legendgroup": "Japan",
           "marker": {
            "color": "#EF553B",
            "symbol": "circle"
           },
           "mode": "markers",
           "name": "Japan",
           "orientation": "v",
           "showlegend": true,
           "type": "scatter",
           "x": [
            16,
            13.5,
            17,
            17.5
           ],
           "xaxis": "x",
           "y": [
            29,
            24,
            24,
            33
           ],
           "yaxis": "y"
          },
          {
           "hovertemplate": "<b>%{hovertext}</b><br><br>Origin=Europe<br>Model Year=75<br>Acceleration=%{x}<br>MPG=%{y}<extra></extra>",
           "hovertext": [
            71,
            70,
            95,
            88,
            98,
            115
           ],
           "ids": [
            71,
            70,
            95,
            88,
            98,
            115
           ],
           "legendgroup": "Europe",
           "marker": {
            "color": "#00cc96",
            "symbol": "circle"
           },
           "mode": "markers",
           "name": "Europe",
           "orientation": "v",
           "showlegend": true,
           "type": "scatter",
           "x": [
            16.5,
            14,
            15,
            17,
            14.5,
            13.5
           ],
           "xaxis": "x",
           "y": [
            25,
            29,
            23,
            23,
            22,
            25
           ],
           "yaxis": "y"
          }
         ],
         "name": "75"
        },
        {
         "data": [
          {
           "hovertemplate": "<b>%{hovertext}</b><br><br>Origin=USA<br>Model Year=76<br>Acceleration=%{x}<br>MPG=%{y}<extra></extra>",
           "hovertext": [
            92,
            79,
            140,
            150,
            120,
            152,
            100,
            105,
            81,
            90,
            52,
            60,
            100,
            78,
            110,
            95,
            72,
            150,
            180,
            145,
            130,
            150
           ],
           "ids": [
            92,
            79,
            140,
            150,
            120,
            152,
            100,
            105,
            81,
            90,
            52,
            60,
            100,
            78,
            110,
            95,
            72,
            150,
            180,
            145,
            130,
            150
           ],
           "legendgroup": "USA",
           "marker": {
            "color": "#636efa",
            "symbol": "circle"
           },
           "mode": "markers",
           "name": "USA",
           "orientation": "v",
           "showlegend": true,
           "type": "scatter",
           "x": [
            14.9,
            17.7,
            13,
            13,
            13.9,
            12.8,
            15.4,
            14.5,
            17.6,
            17.6,
            22.2,
            22.1,
            17.7,
            21,
            16.2,
            17.8,
            13.6,
            13.2,
            12.1,
            12,
            15,
            14
           ],
           "xaxis": "x",
           "y": [
            25,
            26,
            17.5,
            16,
            15.5,
            14.5,
            22,
            22,
            24,
            22.5,
            29,
            24.5,
            20,
            18,
            18.5,
            17.5,
            26.5,
            13,
            16.5,
            13,
            13,
            13
           ],
           "yaxis": "y"
          },
          {
           "hovertemplate": "<b>%{hovertext}</b><br><br>Origin=Japan<br>Model Year=76<br>Acceleration=%{x}<br>MPG=%{y}<extra></extra>",
           "hovertext": [
            53,
            70,
            75,
            108
           ],
           "ids": [
            53,
            70,
            75,
            108
           ],
           "legendgroup": "Japan",
           "marker": {
            "color": "#EF553B",
            "symbol": "circle"
           },
           "mode": "markers",
           "name": "Japan",
           "orientation": "v",
           "showlegend": true,
           "type": "scatter",
           "x": [
            17.4,
            17,
            16.4,
            15.5
           ],
           "xaxis": "x",
           "y": [
            33,
            32,
            28,
            19
           ],
           "yaxis": "y"
          },
          {
           "hovertemplate": "<b>%{hovertext}</b><br><br>Origin=Europe<br>Model Year=76<br>Acceleration=%{x}<br>MPG=%{y}<extra></extra>",
           "hovertext": [
            86,
            81,
            83,
            70,
            71,
            102,
            88,
            120
           ],
           "ids": [
            86,
            81,
            83,
            70,
            71,
            102,
            88,
            120
           ],
           "legendgroup": "Europe",
           "marker": {
            "color": "#00cc96",
            "symbol": "circle"
           },
           "mode": "markers",
           "name": "Europe",
           "orientation": "v",
           "showlegend": true,
           "type": "scatter",
           "x": [
            15.5,
            16.9,
            15.3,
            14.2,
            12.2,
            15.7,
            21.9,
            16.7
           ],
           "xaxis": "x",
           "y": [
            28,
            25,
            27,
            29,
            29.5,
            20,
            19,
            16.5
           ],
           "yaxis": "y"
          }
         ],
         "name": "76"
        },
        {
         "data": [
          {
           "hovertemplate": "<b>%{hovertext}</b><br><br>Origin=USA<br>Model Year=77<br>Acceleration=%{x}<br>MPG=%{y}<extra></extra>",
           "hovertext": [
            80,
            96,
            145,
            110,
            145,
            130,
            110,
            105,
            100,
            98,
            180,
            170,
            190,
            149,
            88,
            89,
            63,
            83
           ],
           "ids": [
            80,
            96,
            145,
            110,
            145,
            130,
            110,
            105,
            100,
            98,
            180,
            170,
            190,
            149,
            88,
            89,
            63,
            83
           ],
           "legendgroup": "USA",
           "marker": {
            "color": "#636efa",
            "symbol": "circle"
           },
           "mode": "markers",
           "name": "USA",
           "orientation": "v",
           "showlegend": true,
           "type": "scatter",
           "x": [
            14.8,
            15.5,
            12.5,
            19,
            13.7,
            14.9,
            16.4,
            16.9,
            17.7,
            19,
            11.1,
            11.4,
            12.2,
            14.5,
            16,
            15.8,
            17,
            15.9
           ],
           "xaxis": "x",
           "y": [
            30,
            25.5,
            17.5,
            17,
            15.5,
            15,
            17.5,
            20.5,
            19,
            18.5,
            16,
            15.5,
            15.5,
            16,
            24.5,
            25.5,
            30.5,
            33.5
           ],
           "yaxis": "y"
          },
          {
           "hovertemplate": "<b>%{hovertext}</b><br><br>Origin=Japan<br>Model Year=77<br>Acceleration=%{x}<br>MPG=%{y}<extra></extra>",
           "hovertext": [
            68,
            70,
            75,
            67,
            97,
            110
           ],
           "ids": [
            68,
            70,
            75,
            67,
            97,
            110
           ],
           "legendgroup": "Japan",
           "marker": {
            "color": "#EF553B",
            "symbol": "circle"
           },
           "mode": "markers",
           "name": "Japan",
           "orientation": "v",
           "showlegend": true,
           "type": "scatter",
           "x": [
            18.5,
            16.8,
            18.2,
            16.4,
            14.5,
            13.5
           ],
           "xaxis": "x",
           "y": [
            31.5,
            33.5,
            26,
            30,
            22,
            21.5
           ],
           "yaxis": "y"
          },
          {
           "hovertemplate": "<b>%{hovertext}</b><br><br>Origin=Europe<br>Model Year=77<br>Acceleration=%{x}<br>MPG=%{y}<extra></extra>",
           "hovertext": [
            58,
            78,
            78,
            110
           ],
           "ids": [
            58,
            78,
            78,
            110
           ],
           "legendgroup": "Europe",
           "marker": {
            "color": "#00cc96",
            "symbol": "circle"
           },
           "mode": "markers",
           "name": "Europe",
           "orientation": "v",
           "showlegend": true,
           "type": "scatter",
           "x": [
            18.6,
            14.5,
            14.1,
            12.8
           ],
           "xaxis": "x",
           "y": [
            36,
            29,
            30.5,
            21.5
           ],
           "yaxis": "y"
          }
         ],
         "name": "77"
        },
        {
         "data": [
          {
           "hovertemplate": "<b>%{hovertext}</b><br><br>Origin=USA<br>Model Year=78<br>Acceleration=%{x}<br>MPG=%{y}<extra></extra>",
           "hovertext": [
            66,
            110,
            140,
            139,
            105,
            95,
            85,
            88,
            100,
            90,
            105,
            85,
            110,
            120,
            145,
            165,
            139,
            140,
            68,
            75,
            105,
            85
           ],
           "ids": [
            66,
            110,
            140,
            139,
            105,
            95,
            85,
            88,
            100,
            90,
            105,
            85,
            110,
            120,
            145,
            165,
            139,
            140,
            68,
            75,
            105,
            85
           ],
           "legendgroup": "USA",
           "marker": {
            "color": "#636efa",
            "symbol": "circle"
           },
           "mode": "markers",
           "name": "USA",
           "orientation": "v",
           "showlegend": true,
           "type": "scatter",
           "x": [
            14.4,
            15.5,
            13.2,
            12.8,
            19.2,
            18.2,
            15.8,
            15.4,
            17.2,
            17.2,
            15.8,
            16.7,
            18.7,
            15.1,
            13.2,
            13.4,
            11.2,
            13.7,
            16.5,
            14.5,
            16.7,
            17.6
           ],
           "xaxis": "x",
           "y": [
            36.1,
            19.9,
            19.4,
            20.2,
            19.2,
            20.5,
            20.2,
            25.1,
            20.5,
            19.4,
            20.6,
            20.8,
            18.6,
            18.1,
            19.2,
            17.7,
            18.1,
            17.5,
            30,
            30.9,
            23.2,
            23.8
           ],
           "yaxis": "y"
          },
          {
           "hovertemplate": "<b>%{hovertext}</b><br><br>Origin=Japan<br>Model Year=78<br>Acceleration=%{x}<br>MPG=%{y}<extra></extra>",
           "hovertext": [
            52,
            70,
            60,
            95,
            97,
            95,
            97,
            68
           ],
           "ids": [
            52,
            70,
            60,
            95,
            97,
            95,
            97,
            68
           ],
           "legendgroup": "Japan",
           "marker": {
            "color": "#EF553B",
            "symbol": "circle"
           },
           "mode": "markers",
           "name": "Japan",
           "orientation": "v",
           "showlegend": true,
           "type": "scatter",
           "x": [
            19.4,
            18.6,
            16.4,
            14.2,
            14.7,
            14.8,
            14.9,
            16.6
           ],
           "xaxis": "x",
           "y": [
            32.8,
            39.4,
            36.1,
            27.5,
            27.2,
            21.1,
            23.9,
            29.5
           ],
           "yaxis": "y"
          },
          {
           "hovertemplate": "<b>%{hovertext}</b><br><br>Origin=Europe<br>Model Year=78<br>Acceleration=%{x}<br>MPG=%{y}<extra></extra>",
           "hovertext": [
            48,
            103,
            125,
            115,
            133,
            71
           ],
           "ids": [
            48,
            103,
            125,
            115,
            133,
            71
           ],
           "legendgroup": "Europe",
           "marker": {
            "color": "#00cc96",
            "symbol": "circle"
           },
           "mode": "markers",
           "name": "Europe",
           "orientation": "v",
           "showlegend": true,
           "type": "scatter",
           "x": [
            21.5,
            15.9,
            13.6,
            15.7,
            15.8,
            14.9
           ],
           "xaxis": "x",
           "y": [
            43.1,
            20.3,
            17,
            21.6,
            16.2,
            31.5
           ],
           "yaxis": "y"
          }
         ],
         "name": "78"
        },
        {
         "data": [
          {
           "hovertemplate": "<b>%{hovertext}</b><br><br>Origin=USA<br>Model Year=79<br>Acceleration=%{x}<br>MPG=%{y}<extra></extra>",
           "hovertext": [
            115,
            85,
            88,
            90,
            110,
            130,
            129,
            138,
            135,
            155,
            142,
            125,
            150,
            80,
            80,
            125,
            90,
            70,
            70,
            90,
            115,
            115,
            90
           ],
           "ids": [
            115,
            85,
            88,
            90,
            110,
            130,
            129,
            138,
            135,
            155,
            142,
            125,
            150,
            80,
            80,
            125,
            90,
            70,
            70,
            90,
            115,
            115,
            90
           ],
           "legendgroup": "USA",
           "marker": {
            "color": "#636efa",
            "symbol": "circle"
           },
           "mode": "markers",
           "name": "USA",
           "orientation": "v",
           "showlegend": true,
           "type": "scatter",
           "x": [
            15.4,
            18.2,
            17.3,
            18.2,
            16.6,
            15.4,
            13.4,
            13.2,
            15.2,
            14.9,
            14.3,
            15,
            13,
            14.4,
            15,
            17.4,
            22.2,
            13.2,
            14.9,
            16,
            11.3,
            12.9,
            13.2
           ],
           "xaxis": "x",
           "y": [
            21.5,
            19.8,
            22.3,
            20.2,
            20.6,
            17,
            17.6,
            16.5,
            18.2,
            16.9,
            15.5,
            19.2,
            18.5,
            35.7,
            27.4,
            23,
            23.9,
            34.2,
            34.5,
            28.4,
            28.8,
            26.8,
            33.5
           ],
           "yaxis": "y"
          },
          {
           "hovertemplate": "<b>%{hovertext}</b><br><br>Origin=Japan<br>Model Year=79<br>Acceleration=%{x}<br>MPG=%{y}<extra></extra>",
           "hovertext": [
            65,
            65
           ],
           "ids": [
            65,
            65
           ],
           "legendgroup": "Japan",
           "marker": {
            "color": "#EF553B",
            "symbol": "circle"
           },
           "mode": "markers",
           "name": "Japan",
           "orientation": "v",
           "showlegend": true,
           "type": "scatter",
           "x": [
            15.2,
            19.2
           ],
           "xaxis": "x",
           "y": [
            34.1,
            31.8
           ],
           "yaxis": "y"
          },
          {
           "hovertemplate": "<b>%{hovertext}</b><br><br>Origin=Europe<br>Model Year=79<br>Acceleration=%{x}<br>MPG=%{y}<extra></extra>",
           "hovertext": [
            71,
            77,
            71,
            69
           ],
           "ids": [
            71,
            77,
            71,
            69
           ],
           "legendgroup": "Europe",
           "marker": {
            "color": "#00cc96",
            "symbol": "circle"
           },
           "mode": "markers",
           "name": "Europe",
           "orientation": "v",
           "showlegend": true,
           "type": "scatter",
           "x": [
            14,
            20.1,
            24.8,
            14.7
           ],
           "xaxis": "x",
           "y": [
            31.9,
            25.4,
            27.2,
            37.3
           ],
           "yaxis": "y"
          }
         ],
         "name": "79"
        },
        {
         "data": [
          {
           "hovertemplate": "<b>%{hovertext}</b><br><br>Origin=USA<br>Model Year=80<br>Acceleration=%{x}<br>MPG=%{y}<extra></extra>",
           "hovertext": [
            70,
            90,
            88,
            90,
            90,
            105,
            104.46938775510205
           ],
           "ids": [
            70,
            90,
            88,
            90,
            90,
            105,
            104.46938775510205
           ],
           "legendgroup": "USA",
           "marker": {
            "color": "#636efa",
            "symbol": "circle"
           },
           "mode": "markers",
           "name": "USA",
           "orientation": "v",
           "showlegend": true,
           "type": "scatter",
           "x": [
            15.5,
            16.5,
            18.1,
            20.1,
            18.7,
            14.4,
            14.3
           ],
           "xaxis": "x",
           "y": [
            32.1,
            28,
            26.4,
            24.3,
            19.1,
            27.9,
            23.6
           ],
           "yaxis": "y"
          },
          {
           "hovertemplate": "<b>%{hovertext}</b><br><br>Origin=Japan<br>Model Year=80<br>Acceleration=%{x}<br>MPG=%{y}<extra></extra>",
           "hovertext": [
            60,
            65,
            90,
            75,
            92,
            75,
            65,
            65,
            67,
            67,
            132,
            100,
            72
           ],
           "ids": [
            60,
            65,
            90,
            75,
            92,
            75,
            65,
            65,
            67,
            67,
            132,
            100,
            72
           ],
           "legendgroup": "Japan",
           "marker": {
            "color": "#EF553B",
            "symbol": "circle"
           },
           "mode": "markers",
           "name": "Japan",
           "orientation": "v",
           "showlegend": true,
           "type": "scatter",
           "x": [
            18.8,
            16.4,
            15.5,
            17.5,
            15,
            15.2,
            17.9,
            19.2,
            13.8,
            18,
            11.4,
            12.5,
            17
           ],
           "xaxis": "x",
           "y": [
            38.1,
            37.2,
            29.8,
            31.3,
            37,
            32.2,
            46.6,
            40.8,
            44.6,
            33.8,
            32.7,
            23.7,
            32.4
           ],
           "yaxis": "y"
          },
          {
           "hovertemplate": "<b>%{hovertext}</b><br><br>Origin=Europe<br>Model Year=80<br>Acceleration=%{x}<br>MPG=%{y}<extra></extra>",
           "hovertext": [
            76,
            78,
            48,
            48,
            67,
            67,
            104.46938775510205,
            62,
            88
           ],
           "ids": [
            76,
            78,
            48,
            48,
            67,
            67,
            104.46938775510205,
            62,
            88
           ],
           "legendgroup": "Europe",
           "marker": {
            "color": "#00cc96",
            "symbol": "circle"
           },
           "mode": "markers",
           "name": "Europe",
           "orientation": "v",
           "showlegend": true,
           "type": "scatter",
           "x": [
            14.7,
            15.8,
            21.7,
            23.7,
            19.9,
            21.8,
            17.3,
            15.3,
            15.1
           ],
           "xaxis": "x",
           "y": [
            41.5,
            34.3,
            44.3,
            43.4,
            36.4,
            30,
            40.9,
            29.8,
            35
           ],
           "yaxis": "y"
          }
         ],
         "name": "80"
        },
        {
         "data": [
          {
           "hovertemplate": "<b>%{hovertext}</b><br><br>Origin=USA<br>Model Year=81<br>Acceleration=%{x}<br>MPG=%{y}<extra></extra>",
           "hovertext": [
            84,
            84,
            92,
            110,
            84,
            64,
            63,
            65,
            65,
            110,
            105,
            88,
            85
           ],
           "ids": [
            84,
            84,
            92,
            110,
            84,
            64,
            63,
            65,
            65,
            110,
            105,
            88,
            85
           ],
           "legendgroup": "USA",
           "marker": {
            "color": "#636efa",
            "symbol": "circle"
           },
           "mode": "markers",
           "name": "USA",
           "orientation": "v",
           "showlegend": true,
           "type": "scatter",
           "x": [
            15.7,
            16.4,
            14.4,
            12.6,
            12.9,
            16.4,
            14.9,
            16.2,
            20.7,
            15.8,
            19,
            17.1,
            16.6
           ],
           "xaxis": "x",
           "y": [
            27.2,
            26.6,
            25.8,
            23.5,
            30,
            39,
            34.7,
            34.4,
            29.9,
            22.4,
            26.6,
            20.2,
            17.6
           ],
           "yaxis": "y"
          },
          {
           "hovertemplate": "<b>%{hovertext}</b><br><br>Origin=Japan<br>Model Year=81<br>Acceleration=%{x}<br>MPG=%{y}<extra></extra>",
           "hovertext": [
            58,
            60,
            67,
            65,
            62,
            68,
            75,
            75,
            100,
            74,
            116,
            120
           ],
           "ids": [
            58,
            60,
            67,
            65,
            62,
            68,
            75,
            75,
            100,
            74,
            116,
            120
           ],
           "legendgroup": "Japan",
           "marker": {
            "color": "#EF553B",
            "symbol": "circle"
           },
           "mode": "markers",
           "name": "Japan",
           "orientation": "v",
           "showlegend": true,
           "type": "scatter",
           "x": [
            16.9,
            16.1,
            17.8,
            19.4,
            17.3,
            16,
            14.4,
            16.8,
            14.8,
            18.3,
            12.6,
            13.8
           ],
           "xaxis": "x",
           "y": [
            39.1,
            35.1,
            32.3,
            37,
            37.7,
            34.1,
            33.7,
            32.4,
            32.9,
            31.6,
            25.4,
            24.2
           ],
           "yaxis": "y"
          },
          {
           "hovertemplate": "<b>%{hovertext}</b><br><br>Origin=Europe<br>Model Year=81<br>Acceleration=%{x}<br>MPG=%{y}<extra></extra>",
           "hovertext": [
            74,
            104.46938775510205,
            80,
            76
           ],
           "ids": [
            74,
            104.46938775510205,
            80,
            76
           ],
           "legendgroup": "Europe",
           "marker": {
            "color": "#00cc96",
            "symbol": "circle"
           },
           "mode": "markers",
           "name": "Europe",
           "orientation": "v",
           "showlegend": true,
           "type": "scatter",
           "x": [
            14.2,
            15.8,
            20.4,
            19.6
           ],
           "xaxis": "x",
           "y": [
            33,
            34.5,
            28.1,
            30.7
           ],
           "yaxis": "y"
          }
         ],
         "name": "81"
        },
        {
         "data": [
          {
           "hovertemplate": "<b>%{hovertext}</b><br><br>Origin=USA<br>Model Year=82<br>Acceleration=%{x}<br>MPG=%{y}<extra></extra>",
           "hovertext": [
            88,
            88,
            88,
            85,
            84,
            90,
            92,
            104.46938775510205,
            63,
            70,
            110,
            85,
            92,
            112,
            84,
            90,
            86,
            84,
            79,
            82
           ],
           "ids": [
            88,
            88,
            88,
            85,
            84,
            90,
            92,
            104.46938775510205,
            63,
            70,
            110,
            85,
            92,
            112,
            84,
            90,
            86,
            84,
            79,
            82
           ],
           "legendgroup": "USA",
           "marker": {
            "color": "#636efa",
            "symbol": "circle"
           },
           "mode": "markers",
           "name": "USA",
           "orientation": "v",
           "showlegend": true,
           "type": "scatter",
           "x": [
            19.6,
            18.6,
            18,
            16.2,
            16,
            18,
            16.4,
            20.5,
            14.7,
            17.3,
            16.4,
            17,
            14.5,
            14.7,
            13,
            17.3,
            15.6,
            11.6,
            18.6,
            19.4
           ],
           "xaxis": "x",
           "y": [
            28,
            27,
            34,
            31,
            29,
            27,
            24,
            23,
            38,
            36,
            25,
            38,
            26,
            22,
            36,
            27,
            27,
            32,
            28,
            31
           ],
           "yaxis": "y"
          },
          {
           "hovertemplate": "<b>%{hovertext}</b><br><br>Origin=Japan<br>Model Year=82<br>Acceleration=%{x}<br>MPG=%{y}<extra></extra>",
           "hovertext": [
            68,
            68,
            88,
            75,
            70,
            67,
            67,
            67,
            96
           ],
           "ids": [
            68,
            68,
            88,
            75,
            70,
            67,
            67,
            67,
            96
           ],
           "legendgroup": "Japan",
           "marker": {
            "color": "#EF553B",
            "symbol": "circle"
           },
           "mode": "markers",
           "name": "Japan",
           "orientation": "v",
           "showlegend": true,
           "type": "scatter",
           "x": [
            18.2,
            17.6,
            14.5,
            14.5,
            16.9,
            15,
            15.7,
            16.2,
            13.9
           ],
           "xaxis": "x",
           "y": [
            37,
            31,
            36,
            36,
            34,
            38,
            32,
            38,
            32
           ],
           "yaxis": "y"
          },
          {
           "hovertemplate": "<b>%{hovertext}</b><br><br>Origin=Europe<br>Model Year=82<br>Acceleration=%{x}<br>MPG=%{y}<extra></extra>",
           "hovertext": [
            74,
            52
           ],
           "ids": [
            74,
            52
           ],
           "legendgroup": "Europe",
           "marker": {
            "color": "#00cc96",
            "symbol": "circle"
           },
           "mode": "markers",
           "name": "Europe",
           "orientation": "v",
           "showlegend": true,
           "type": "scatter",
           "x": [
            15.3,
            24.6
           ],
           "xaxis": "x",
           "y": [
            36,
            44
           ],
           "yaxis": "y"
          }
         ],
         "name": "82"
        }
       ],
       "layout": {
        "legend": {
         "title": {
          "text": "Origin"
         },
         "tracegroupgap": 0
        },
        "margin": {
         "t": 60
        },
        "sliders": [
         {
          "active": 0,
          "currentvalue": {
           "prefix": "Model Year="
          },
          "len": 0.9,
          "pad": {
           "b": 10,
           "t": 60
          },
          "steps": [
           {
            "args": [
             [
              "70"
             ],
             {
              "frame": {
               "duration": 0,
               "redraw": false
              },
              "fromcurrent": true,
              "mode": "immediate",
              "transition": {
               "duration": 0,
               "easing": "linear"
              }
             }
            ],
            "label": "70",
            "method": "animate"
           },
           {
            "args": [
             [
              "71"
             ],
             {
              "frame": {
               "duration": 0,
               "redraw": false
              },
              "fromcurrent": true,
              "mode": "immediate",
              "transition": {
               "duration": 0,
               "easing": "linear"
              }
             }
            ],
            "label": "71",
            "method": "animate"
           },
           {
            "args": [
             [
              "72"
             ],
             {
              "frame": {
               "duration": 0,
               "redraw": false
              },
              "fromcurrent": true,
              "mode": "immediate",
              "transition": {
               "duration": 0,
               "easing": "linear"
              }
             }
            ],
            "label": "72",
            "method": "animate"
           },
           {
            "args": [
             [
              "73"
             ],
             {
              "frame": {
               "duration": 0,
               "redraw": false
              },
              "fromcurrent": true,
              "mode": "immediate",
              "transition": {
               "duration": 0,
               "easing": "linear"
              }
             }
            ],
            "label": "73",
            "method": "animate"
           },
           {
            "args": [
             [
              "74"
             ],
             {
              "frame": {
               "duration": 0,
               "redraw": false
              },
              "fromcurrent": true,
              "mode": "immediate",
              "transition": {
               "duration": 0,
               "easing": "linear"
              }
             }
            ],
            "label": "74",
            "method": "animate"
           },
           {
            "args": [
             [
              "75"
             ],
             {
              "frame": {
               "duration": 0,
               "redraw": false
              },
              "fromcurrent": true,
              "mode": "immediate",
              "transition": {
               "duration": 0,
               "easing": "linear"
              }
             }
            ],
            "label": "75",
            "method": "animate"
           },
           {
            "args": [
             [
              "76"
             ],
             {
              "frame": {
               "duration": 0,
               "redraw": false
              },
              "fromcurrent": true,
              "mode": "immediate",
              "transition": {
               "duration": 0,
               "easing": "linear"
              }
             }
            ],
            "label": "76",
            "method": "animate"
           },
           {
            "args": [
             [
              "77"
             ],
             {
              "frame": {
               "duration": 0,
               "redraw": false
              },
              "fromcurrent": true,
              "mode": "immediate",
              "transition": {
               "duration": 0,
               "easing": "linear"
              }
             }
            ],
            "label": "77",
            "method": "animate"
           },
           {
            "args": [
             [
              "78"
             ],
             {
              "frame": {
               "duration": 0,
               "redraw": false
              },
              "fromcurrent": true,
              "mode": "immediate",
              "transition": {
               "duration": 0,
               "easing": "linear"
              }
             }
            ],
            "label": "78",
            "method": "animate"
           },
           {
            "args": [
             [
              "79"
             ],
             {
              "frame": {
               "duration": 0,
               "redraw": false
              },
              "fromcurrent": true,
              "mode": "immediate",
              "transition": {
               "duration": 0,
               "easing": "linear"
              }
             }
            ],
            "label": "79",
            "method": "animate"
           },
           {
            "args": [
             [
              "80"
             ],
             {
              "frame": {
               "duration": 0,
               "redraw": false
              },
              "fromcurrent": true,
              "mode": "immediate",
              "transition": {
               "duration": 0,
               "easing": "linear"
              }
             }
            ],
            "label": "80",
            "method": "animate"
           },
           {
            "args": [
             [
              "81"
             ],
             {
              "frame": {
               "duration": 0,
               "redraw": false
              },
              "fromcurrent": true,
              "mode": "immediate",
              "transition": {
               "duration": 0,
               "easing": "linear"
              }
             }
            ],
            "label": "81",
            "method": "animate"
           },
           {
            "args": [
             [
              "82"
             ],
             {
              "frame": {
               "duration": 0,
               "redraw": false
              },
              "fromcurrent": true,
              "mode": "immediate",
              "transition": {
               "duration": 0,
               "easing": "linear"
              }
             }
            ],
            "label": "82",
            "method": "animate"
           }
          ],
          "x": 0.1,
          "xanchor": "left",
          "y": 0,
          "yanchor": "top"
         }
        ],
        "template": {
         "data": {
          "bar": [
           {
            "error_x": {
             "color": "#2a3f5f"
            },
            "error_y": {
             "color": "#2a3f5f"
            },
            "marker": {
             "line": {
              "color": "#E5ECF6",
              "width": 0.5
             },
             "pattern": {
              "fillmode": "overlay",
              "size": 10,
              "solidity": 0.2
             }
            },
            "type": "bar"
           }
          ],
          "barpolar": [
           {
            "marker": {
             "line": {
              "color": "#E5ECF6",
              "width": 0.5
             },
             "pattern": {
              "fillmode": "overlay",
              "size": 10,
              "solidity": 0.2
             }
            },
            "type": "barpolar"
           }
          ],
          "carpet": [
           {
            "aaxis": {
             "endlinecolor": "#2a3f5f",
             "gridcolor": "white",
             "linecolor": "white",
             "minorgridcolor": "white",
             "startlinecolor": "#2a3f5f"
            },
            "baxis": {
             "endlinecolor": "#2a3f5f",
             "gridcolor": "white",
             "linecolor": "white",
             "minorgridcolor": "white",
             "startlinecolor": "#2a3f5f"
            },
            "type": "carpet"
           }
          ],
          "choropleth": [
           {
            "colorbar": {
             "outlinewidth": 0,
             "ticks": ""
            },
            "type": "choropleth"
           }
          ],
          "contour": [
           {
            "colorbar": {
             "outlinewidth": 0,
             "ticks": ""
            },
            "colorscale": [
             [
              0,
              "#0d0887"
             ],
             [
              0.1111111111111111,
              "#46039f"
             ],
             [
              0.2222222222222222,
              "#7201a8"
             ],
             [
              0.3333333333333333,
              "#9c179e"
             ],
             [
              0.4444444444444444,
              "#bd3786"
             ],
             [
              0.5555555555555556,
              "#d8576b"
             ],
             [
              0.6666666666666666,
              "#ed7953"
             ],
             [
              0.7777777777777778,
              "#fb9f3a"
             ],
             [
              0.8888888888888888,
              "#fdca26"
             ],
             [
              1,
              "#f0f921"
             ]
            ],
            "type": "contour"
           }
          ],
          "contourcarpet": [
           {
            "colorbar": {
             "outlinewidth": 0,
             "ticks": ""
            },
            "type": "contourcarpet"
           }
          ],
          "heatmap": [
           {
            "colorbar": {
             "outlinewidth": 0,
             "ticks": ""
            },
            "colorscale": [
             [
              0,
              "#0d0887"
             ],
             [
              0.1111111111111111,
              "#46039f"
             ],
             [
              0.2222222222222222,
              "#7201a8"
             ],
             [
              0.3333333333333333,
              "#9c179e"
             ],
             [
              0.4444444444444444,
              "#bd3786"
             ],
             [
              0.5555555555555556,
              "#d8576b"
             ],
             [
              0.6666666666666666,
              "#ed7953"
             ],
             [
              0.7777777777777778,
              "#fb9f3a"
             ],
             [
              0.8888888888888888,
              "#fdca26"
             ],
             [
              1,
              "#f0f921"
             ]
            ],
            "type": "heatmap"
           }
          ],
          "heatmapgl": [
           {
            "colorbar": {
             "outlinewidth": 0,
             "ticks": ""
            },
            "colorscale": [
             [
              0,
              "#0d0887"
             ],
             [
              0.1111111111111111,
              "#46039f"
             ],
             [
              0.2222222222222222,
              "#7201a8"
             ],
             [
              0.3333333333333333,
              "#9c179e"
             ],
             [
              0.4444444444444444,
              "#bd3786"
             ],
             [
              0.5555555555555556,
              "#d8576b"
             ],
             [
              0.6666666666666666,
              "#ed7953"
             ],
             [
              0.7777777777777778,
              "#fb9f3a"
             ],
             [
              0.8888888888888888,
              "#fdca26"
             ],
             [
              1,
              "#f0f921"
             ]
            ],
            "type": "heatmapgl"
           }
          ],
          "histogram": [
           {
            "marker": {
             "pattern": {
              "fillmode": "overlay",
              "size": 10,
              "solidity": 0.2
             }
            },
            "type": "histogram"
           }
          ],
          "histogram2d": [
           {
            "colorbar": {
             "outlinewidth": 0,
             "ticks": ""
            },
            "colorscale": [
             [
              0,
              "#0d0887"
             ],
             [
              0.1111111111111111,
              "#46039f"
             ],
             [
              0.2222222222222222,
              "#7201a8"
             ],
             [
              0.3333333333333333,
              "#9c179e"
             ],
             [
              0.4444444444444444,
              "#bd3786"
             ],
             [
              0.5555555555555556,
              "#d8576b"
             ],
             [
              0.6666666666666666,
              "#ed7953"
             ],
             [
              0.7777777777777778,
              "#fb9f3a"
             ],
             [
              0.8888888888888888,
              "#fdca26"
             ],
             [
              1,
              "#f0f921"
             ]
            ],
            "type": "histogram2d"
           }
          ],
          "histogram2dcontour": [
           {
            "colorbar": {
             "outlinewidth": 0,
             "ticks": ""
            },
            "colorscale": [
             [
              0,
              "#0d0887"
             ],
             [
              0.1111111111111111,
              "#46039f"
             ],
             [
              0.2222222222222222,
              "#7201a8"
             ],
             [
              0.3333333333333333,
              "#9c179e"
             ],
             [
              0.4444444444444444,
              "#bd3786"
             ],
             [
              0.5555555555555556,
              "#d8576b"
             ],
             [
              0.6666666666666666,
              "#ed7953"
             ],
             [
              0.7777777777777778,
              "#fb9f3a"
             ],
             [
              0.8888888888888888,
              "#fdca26"
             ],
             [
              1,
              "#f0f921"
             ]
            ],
            "type": "histogram2dcontour"
           }
          ],
          "mesh3d": [
           {
            "colorbar": {
             "outlinewidth": 0,
             "ticks": ""
            },
            "type": "mesh3d"
           }
          ],
          "parcoords": [
           {
            "line": {
             "colorbar": {
              "outlinewidth": 0,
              "ticks": ""
             }
            },
            "type": "parcoords"
           }
          ],
          "pie": [
           {
            "automargin": true,
            "type": "pie"
           }
          ],
          "scatter": [
           {
            "fillpattern": {
             "fillmode": "overlay",
             "size": 10,
             "solidity": 0.2
            },
            "type": "scatter"
           }
          ],
          "scatter3d": [
           {
            "line": {
             "colorbar": {
              "outlinewidth": 0,
              "ticks": ""
             }
            },
            "marker": {
             "colorbar": {
              "outlinewidth": 0,
              "ticks": ""
             }
            },
            "type": "scatter3d"
           }
          ],
          "scattercarpet": [
           {
            "marker": {
             "colorbar": {
              "outlinewidth": 0,
              "ticks": ""
             }
            },
            "type": "scattercarpet"
           }
          ],
          "scattergeo": [
           {
            "marker": {
             "colorbar": {
              "outlinewidth": 0,
              "ticks": ""
             }
            },
            "type": "scattergeo"
           }
          ],
          "scattergl": [
           {
            "marker": {
             "colorbar": {
              "outlinewidth": 0,
              "ticks": ""
             }
            },
            "type": "scattergl"
           }
          ],
          "scattermapbox": [
           {
            "marker": {
             "colorbar": {
              "outlinewidth": 0,
              "ticks": ""
             }
            },
            "type": "scattermapbox"
           }
          ],
          "scatterpolar": [
           {
            "marker": {
             "colorbar": {
              "outlinewidth": 0,
              "ticks": ""
             }
            },
            "type": "scatterpolar"
           }
          ],
          "scatterpolargl": [
           {
            "marker": {
             "colorbar": {
              "outlinewidth": 0,
              "ticks": ""
             }
            },
            "type": "scatterpolargl"
           }
          ],
          "scatterternary": [
           {
            "marker": {
             "colorbar": {
              "outlinewidth": 0,
              "ticks": ""
             }
            },
            "type": "scatterternary"
           }
          ],
          "surface": [
           {
            "colorbar": {
             "outlinewidth": 0,
             "ticks": ""
            },
            "colorscale": [
             [
              0,
              "#0d0887"
             ],
             [
              0.1111111111111111,
              "#46039f"
             ],
             [
              0.2222222222222222,
              "#7201a8"
             ],
             [
              0.3333333333333333,
              "#9c179e"
             ],
             [
              0.4444444444444444,
              "#bd3786"
             ],
             [
              0.5555555555555556,
              "#d8576b"
             ],
             [
              0.6666666666666666,
              "#ed7953"
             ],
             [
              0.7777777777777778,
              "#fb9f3a"
             ],
             [
              0.8888888888888888,
              "#fdca26"
             ],
             [
              1,
              "#f0f921"
             ]
            ],
            "type": "surface"
           }
          ],
          "table": [
           {
            "cells": {
             "fill": {
              "color": "#EBF0F8"
             },
             "line": {
              "color": "white"
             }
            },
            "header": {
             "fill": {
              "color": "#C8D4E3"
             },
             "line": {
              "color": "white"
             }
            },
            "type": "table"
           }
          ]
         },
         "layout": {
          "annotationdefaults": {
           "arrowcolor": "#2a3f5f",
           "arrowhead": 0,
           "arrowwidth": 1
          },
          "autotypenumbers": "strict",
          "coloraxis": {
           "colorbar": {
            "outlinewidth": 0,
            "ticks": ""
           }
          },
          "colorscale": {
           "diverging": [
            [
             0,
             "#8e0152"
            ],
            [
             0.1,
             "#c51b7d"
            ],
            [
             0.2,
             "#de77ae"
            ],
            [
             0.3,
             "#f1b6da"
            ],
            [
             0.4,
             "#fde0ef"
            ],
            [
             0.5,
             "#f7f7f7"
            ],
            [
             0.6,
             "#e6f5d0"
            ],
            [
             0.7,
             "#b8e186"
            ],
            [
             0.8,
             "#7fbc41"
            ],
            [
             0.9,
             "#4d9221"
            ],
            [
             1,
             "#276419"
            ]
           ],
           "sequential": [
            [
             0,
             "#0d0887"
            ],
            [
             0.1111111111111111,
             "#46039f"
            ],
            [
             0.2222222222222222,
             "#7201a8"
            ],
            [
             0.3333333333333333,
             "#9c179e"
            ],
            [
             0.4444444444444444,
             "#bd3786"
            ],
            [
             0.5555555555555556,
             "#d8576b"
            ],
            [
             0.6666666666666666,
             "#ed7953"
            ],
            [
             0.7777777777777778,
             "#fb9f3a"
            ],
            [
             0.8888888888888888,
             "#fdca26"
            ],
            [
             1,
             "#f0f921"
            ]
           ],
           "sequentialminus": [
            [
             0,
             "#0d0887"
            ],
            [
             0.1111111111111111,
             "#46039f"
            ],
            [
             0.2222222222222222,
             "#7201a8"
            ],
            [
             0.3333333333333333,
             "#9c179e"
            ],
            [
             0.4444444444444444,
             "#bd3786"
            ],
            [
             0.5555555555555556,
             "#d8576b"
            ],
            [
             0.6666666666666666,
             "#ed7953"
            ],
            [
             0.7777777777777778,
             "#fb9f3a"
            ],
            [
             0.8888888888888888,
             "#fdca26"
            ],
            [
             1,
             "#f0f921"
            ]
           ]
          },
          "colorway": [
           "#636efa",
           "#EF553B",
           "#00cc96",
           "#ab63fa",
           "#FFA15A",
           "#19d3f3",
           "#FF6692",
           "#B6E880",
           "#FF97FF",
           "#FECB52"
          ],
          "font": {
           "color": "#2a3f5f"
          },
          "geo": {
           "bgcolor": "white",
           "lakecolor": "white",
           "landcolor": "#E5ECF6",
           "showlakes": true,
           "showland": true,
           "subunitcolor": "white"
          },
          "hoverlabel": {
           "align": "left"
          },
          "hovermode": "closest",
          "mapbox": {
           "style": "light"
          },
          "paper_bgcolor": "white",
          "plot_bgcolor": "#E5ECF6",
          "polar": {
           "angularaxis": {
            "gridcolor": "white",
            "linecolor": "white",
            "ticks": ""
           },
           "bgcolor": "#E5ECF6",
           "radialaxis": {
            "gridcolor": "white",
            "linecolor": "white",
            "ticks": ""
           }
          },
          "scene": {
           "xaxis": {
            "backgroundcolor": "#E5ECF6",
            "gridcolor": "white",
            "gridwidth": 2,
            "linecolor": "white",
            "showbackground": true,
            "ticks": "",
            "zerolinecolor": "white"
           },
           "yaxis": {
            "backgroundcolor": "#E5ECF6",
            "gridcolor": "white",
            "gridwidth": 2,
            "linecolor": "white",
            "showbackground": true,
            "ticks": "",
            "zerolinecolor": "white"
           },
           "zaxis": {
            "backgroundcolor": "#E5ECF6",
            "gridcolor": "white",
            "gridwidth": 2,
            "linecolor": "white",
            "showbackground": true,
            "ticks": "",
            "zerolinecolor": "white"
           }
          },
          "shapedefaults": {
           "line": {
            "color": "#2a3f5f"
           }
          },
          "ternary": {
           "aaxis": {
            "gridcolor": "white",
            "linecolor": "white",
            "ticks": ""
           },
           "baxis": {
            "gridcolor": "white",
            "linecolor": "white",
            "ticks": ""
           },
           "bgcolor": "#E5ECF6",
           "caxis": {
            "gridcolor": "white",
            "linecolor": "white",
            "ticks": ""
           }
          },
          "title": {
           "x": 0.05
          },
          "xaxis": {
           "automargin": true,
           "gridcolor": "white",
           "linecolor": "white",
           "ticks": "",
           "title": {
            "standoff": 15
           },
           "zerolinecolor": "white",
           "zerolinewidth": 2
          },
          "yaxis": {
           "automargin": true,
           "gridcolor": "white",
           "linecolor": "white",
           "ticks": "",
           "title": {
            "standoff": 15
           },
           "zerolinecolor": "white",
           "zerolinewidth": 2
          }
         }
        },
        "updatemenus": [
         {
          "buttons": [
           {
            "args": [
             null,
             {
              "frame": {
               "duration": 500,
               "redraw": false
              },
              "fromcurrent": true,
              "mode": "immediate",
              "transition": {
               "duration": 500,
               "easing": "linear"
              }
             }
            ],
            "label": "&#9654;",
            "method": "animate"
           },
           {
            "args": [
             [
              null
             ],
             {
              "frame": {
               "duration": 0,
               "redraw": false
              },
              "fromcurrent": true,
              "mode": "immediate",
              "transition": {
               "duration": 0,
               "easing": "linear"
              }
             }
            ],
            "label": "&#9724;",
            "method": "animate"
           }
          ],
          "direction": "left",
          "pad": {
           "r": 10,
           "t": 70
          },
          "showactive": false,
          "type": "buttons",
          "x": 0.1,
          "xanchor": "right",
          "y": 0,
          "yanchor": "top"
         }
        ],
        "xaxis": {
         "anchor": "y",
         "domain": [
          0,
          1
         ],
         "title": {
          "text": "Acceleration"
         },
         "type": "log"
        },
        "yaxis": {
         "anchor": "x",
         "domain": [
          0,
          1
         ],
         "title": {
          "text": "MPG"
         }
        }
       }
      },
      "text/html": [
       "<div>                            <div id=\"592fbfdc-e8ac-4cfb-9b09-6a82a4bc8a98\" class=\"plotly-graph-div\" style=\"height:525px; width:100%;\"></div>            <script type=\"text/javascript\">                require([\"plotly\"], function(Plotly) {                    window.PLOTLYENV=window.PLOTLYENV || {};                                    if (document.getElementById(\"592fbfdc-e8ac-4cfb-9b09-6a82a4bc8a98\")) {                    Plotly.newPlot(                        \"592fbfdc-e8ac-4cfb-9b09-6a82a4bc8a98\",                        [{\"hovertemplate\":\"<b>%{hovertext}</b><br><br>Origin=USA<br>Model Year=70<br>Acceleration=%{x}<br>MPG=%{y}<extra></extra>\",\"hovertext\":[130.0,165.0,150.0,150.0,140.0,198.0,220.0,215.0,225.0,190.0,170.0,160.0,150.0,225.0,95.0,97.0,85.0,90.0,215.0,200.0,210.0,193.0],\"ids\":[130.0,165.0,150.0,150.0,140.0,198.0,220.0,215.0,225.0,190.0,170.0,160.0,150.0,225.0,95.0,97.0,85.0,90.0,215.0,200.0,210.0,193.0],\"legendgroup\":\"USA\",\"marker\":{\"color\":\"#636efa\",\"symbol\":\"circle\"},\"mode\":\"markers\",\"name\":\"USA\",\"orientation\":\"v\",\"showlegend\":true,\"x\":[12.0,11.5,11.0,12.0,10.5,10.0,9.0,8.5,10.0,8.5,10.0,8.0,9.5,10.0,15.5,15.5,16.0,15.0,14.0,15.0,13.5,18.5],\"xaxis\":\"x\",\"y\":[18.0,15.0,18.0,16.0,17.0,15.0,14.0,14.0,14.0,15.0,15.0,14.0,15.0,14.0,22.0,18.0,21.0,21.0,10.0,10.0,11.0,9.0],\"yaxis\":\"y\",\"type\":\"scatter\"},{\"hovertemplate\":\"<b>%{hovertext}</b><br><br>Origin=Japan<br>Model Year=70<br>Acceleration=%{x}<br>MPG=%{y}<extra></extra>\",\"hovertext\":[95.0,88.0],\"ids\":[95.0,88.0],\"legendgroup\":\"Japan\",\"marker\":{\"color\":\"#EF553B\",\"symbol\":\"circle\"},\"mode\":\"markers\",\"name\":\"Japan\",\"orientation\":\"v\",\"showlegend\":true,\"x\":[15.0,14.5],\"xaxis\":\"x\",\"y\":[24.0,27.0],\"yaxis\":\"y\",\"type\":\"scatter\"},{\"hovertemplate\":\"<b>%{hovertext}</b><br><br>Origin=Europe<br>Model Year=70<br>Acceleration=%{x}<br>MPG=%{y}<extra></extra>\",\"hovertext\":[46.0,87.0,90.0,95.0,113.0],\"ids\":[46.0,87.0,90.0,95.0,113.0],\"legendgroup\":\"Europe\",\"marker\":{\"color\":\"#00cc96\",\"symbol\":\"circle\"},\"mode\":\"markers\",\"name\":\"Europe\",\"orientation\":\"v\",\"showlegend\":true,\"x\":[20.5,17.5,14.5,17.5,12.5],\"xaxis\":\"x\",\"y\":[26.0,25.0,24.0,25.0,26.0],\"yaxis\":\"y\",\"type\":\"scatter\"}],                        {\"template\":{\"data\":{\"histogram2dcontour\":[{\"type\":\"histogram2dcontour\",\"colorbar\":{\"outlinewidth\":0,\"ticks\":\"\"},\"colorscale\":[[0.0,\"#0d0887\"],[0.1111111111111111,\"#46039f\"],[0.2222222222222222,\"#7201a8\"],[0.3333333333333333,\"#9c179e\"],[0.4444444444444444,\"#bd3786\"],[0.5555555555555556,\"#d8576b\"],[0.6666666666666666,\"#ed7953\"],[0.7777777777777778,\"#fb9f3a\"],[0.8888888888888888,\"#fdca26\"],[1.0,\"#f0f921\"]]}],\"choropleth\":[{\"type\":\"choropleth\",\"colorbar\":{\"outlinewidth\":0,\"ticks\":\"\"}}],\"histogram2d\":[{\"type\":\"histogram2d\",\"colorbar\":{\"outlinewidth\":0,\"ticks\":\"\"},\"colorscale\":[[0.0,\"#0d0887\"],[0.1111111111111111,\"#46039f\"],[0.2222222222222222,\"#7201a8\"],[0.3333333333333333,\"#9c179e\"],[0.4444444444444444,\"#bd3786\"],[0.5555555555555556,\"#d8576b\"],[0.6666666666666666,\"#ed7953\"],[0.7777777777777778,\"#fb9f3a\"],[0.8888888888888888,\"#fdca26\"],[1.0,\"#f0f921\"]]}],\"heatmap\":[{\"type\":\"heatmap\",\"colorbar\":{\"outlinewidth\":0,\"ticks\":\"\"},\"colorscale\":[[0.0,\"#0d0887\"],[0.1111111111111111,\"#46039f\"],[0.2222222222222222,\"#7201a8\"],[0.3333333333333333,\"#9c179e\"],[0.4444444444444444,\"#bd3786\"],[0.5555555555555556,\"#d8576b\"],[0.6666666666666666,\"#ed7953\"],[0.7777777777777778,\"#fb9f3a\"],[0.8888888888888888,\"#fdca26\"],[1.0,\"#f0f921\"]]}],\"heatmapgl\":[{\"type\":\"heatmapgl\",\"colorbar\":{\"outlinewidth\":0,\"ticks\":\"\"},\"colorscale\":[[0.0,\"#0d0887\"],[0.1111111111111111,\"#46039f\"],[0.2222222222222222,\"#7201a8\"],[0.3333333333333333,\"#9c179e\"],[0.4444444444444444,\"#bd3786\"],[0.5555555555555556,\"#d8576b\"],[0.6666666666666666,\"#ed7953\"],[0.7777777777777778,\"#fb9f3a\"],[0.8888888888888888,\"#fdca26\"],[1.0,\"#f0f921\"]]}],\"contourcarpet\":[{\"type\":\"contourcarpet\",\"colorbar\":{\"outlinewidth\":0,\"ticks\":\"\"}}],\"contour\":[{\"type\":\"contour\",\"colorbar\":{\"outlinewidth\":0,\"ticks\":\"\"},\"colorscale\":[[0.0,\"#0d0887\"],[0.1111111111111111,\"#46039f\"],[0.2222222222222222,\"#7201a8\"],[0.3333333333333333,\"#9c179e\"],[0.4444444444444444,\"#bd3786\"],[0.5555555555555556,\"#d8576b\"],[0.6666666666666666,\"#ed7953\"],[0.7777777777777778,\"#fb9f3a\"],[0.8888888888888888,\"#fdca26\"],[1.0,\"#f0f921\"]]}],\"surface\":[{\"type\":\"surface\",\"colorbar\":{\"outlinewidth\":0,\"ticks\":\"\"},\"colorscale\":[[0.0,\"#0d0887\"],[0.1111111111111111,\"#46039f\"],[0.2222222222222222,\"#7201a8\"],[0.3333333333333333,\"#9c179e\"],[0.4444444444444444,\"#bd3786\"],[0.5555555555555556,\"#d8576b\"],[0.6666666666666666,\"#ed7953\"],[0.7777777777777778,\"#fb9f3a\"],[0.8888888888888888,\"#fdca26\"],[1.0,\"#f0f921\"]]}],\"mesh3d\":[{\"type\":\"mesh3d\",\"colorbar\":{\"outlinewidth\":0,\"ticks\":\"\"}}],\"scatter\":[{\"fillpattern\":{\"fillmode\":\"overlay\",\"size\":10,\"solidity\":0.2},\"type\":\"scatter\"}],\"parcoords\":[{\"type\":\"parcoords\",\"line\":{\"colorbar\":{\"outlinewidth\":0,\"ticks\":\"\"}}}],\"scatterpolargl\":[{\"type\":\"scatterpolargl\",\"marker\":{\"colorbar\":{\"outlinewidth\":0,\"ticks\":\"\"}}}],\"bar\":[{\"error_x\":{\"color\":\"#2a3f5f\"},\"error_y\":{\"color\":\"#2a3f5f\"},\"marker\":{\"line\":{\"color\":\"#E5ECF6\",\"width\":0.5},\"pattern\":{\"fillmode\":\"overlay\",\"size\":10,\"solidity\":0.2}},\"type\":\"bar\"}],\"scattergeo\":[{\"type\":\"scattergeo\",\"marker\":{\"colorbar\":{\"outlinewidth\":0,\"ticks\":\"\"}}}],\"scatterpolar\":[{\"type\":\"scatterpolar\",\"marker\":{\"colorbar\":{\"outlinewidth\":0,\"ticks\":\"\"}}}],\"histogram\":[{\"marker\":{\"pattern\":{\"fillmode\":\"overlay\",\"size\":10,\"solidity\":0.2}},\"type\":\"histogram\"}],\"scattergl\":[{\"type\":\"scattergl\",\"marker\":{\"colorbar\":{\"outlinewidth\":0,\"ticks\":\"\"}}}],\"scatter3d\":[{\"type\":\"scatter3d\",\"line\":{\"colorbar\":{\"outlinewidth\":0,\"ticks\":\"\"}},\"marker\":{\"colorbar\":{\"outlinewidth\":0,\"ticks\":\"\"}}}],\"scattermapbox\":[{\"type\":\"scattermapbox\",\"marker\":{\"colorbar\":{\"outlinewidth\":0,\"ticks\":\"\"}}}],\"scatterternary\":[{\"type\":\"scatterternary\",\"marker\":{\"colorbar\":{\"outlinewidth\":0,\"ticks\":\"\"}}}],\"scattercarpet\":[{\"type\":\"scattercarpet\",\"marker\":{\"colorbar\":{\"outlinewidth\":0,\"ticks\":\"\"}}}],\"carpet\":[{\"aaxis\":{\"endlinecolor\":\"#2a3f5f\",\"gridcolor\":\"white\",\"linecolor\":\"white\",\"minorgridcolor\":\"white\",\"startlinecolor\":\"#2a3f5f\"},\"baxis\":{\"endlinecolor\":\"#2a3f5f\",\"gridcolor\":\"white\",\"linecolor\":\"white\",\"minorgridcolor\":\"white\",\"startlinecolor\":\"#2a3f5f\"},\"type\":\"carpet\"}],\"table\":[{\"cells\":{\"fill\":{\"color\":\"#EBF0F8\"},\"line\":{\"color\":\"white\"}},\"header\":{\"fill\":{\"color\":\"#C8D4E3\"},\"line\":{\"color\":\"white\"}},\"type\":\"table\"}],\"barpolar\":[{\"marker\":{\"line\":{\"color\":\"#E5ECF6\",\"width\":0.5},\"pattern\":{\"fillmode\":\"overlay\",\"size\":10,\"solidity\":0.2}},\"type\":\"barpolar\"}],\"pie\":[{\"automargin\":true,\"type\":\"pie\"}]},\"layout\":{\"autotypenumbers\":\"strict\",\"colorway\":[\"#636efa\",\"#EF553B\",\"#00cc96\",\"#ab63fa\",\"#FFA15A\",\"#19d3f3\",\"#FF6692\",\"#B6E880\",\"#FF97FF\",\"#FECB52\"],\"font\":{\"color\":\"#2a3f5f\"},\"hovermode\":\"closest\",\"hoverlabel\":{\"align\":\"left\"},\"paper_bgcolor\":\"white\",\"plot_bgcolor\":\"#E5ECF6\",\"polar\":{\"bgcolor\":\"#E5ECF6\",\"angularaxis\":{\"gridcolor\":\"white\",\"linecolor\":\"white\",\"ticks\":\"\"},\"radialaxis\":{\"gridcolor\":\"white\",\"linecolor\":\"white\",\"ticks\":\"\"}},\"ternary\":{\"bgcolor\":\"#E5ECF6\",\"aaxis\":{\"gridcolor\":\"white\",\"linecolor\":\"white\",\"ticks\":\"\"},\"baxis\":{\"gridcolor\":\"white\",\"linecolor\":\"white\",\"ticks\":\"\"},\"caxis\":{\"gridcolor\":\"white\",\"linecolor\":\"white\",\"ticks\":\"\"}},\"coloraxis\":{\"colorbar\":{\"outlinewidth\":0,\"ticks\":\"\"}},\"colorscale\":{\"sequential\":[[0.0,\"#0d0887\"],[0.1111111111111111,\"#46039f\"],[0.2222222222222222,\"#7201a8\"],[0.3333333333333333,\"#9c179e\"],[0.4444444444444444,\"#bd3786\"],[0.5555555555555556,\"#d8576b\"],[0.6666666666666666,\"#ed7953\"],[0.7777777777777778,\"#fb9f3a\"],[0.8888888888888888,\"#fdca26\"],[1.0,\"#f0f921\"]],\"sequentialminus\":[[0.0,\"#0d0887\"],[0.1111111111111111,\"#46039f\"],[0.2222222222222222,\"#7201a8\"],[0.3333333333333333,\"#9c179e\"],[0.4444444444444444,\"#bd3786\"],[0.5555555555555556,\"#d8576b\"],[0.6666666666666666,\"#ed7953\"],[0.7777777777777778,\"#fb9f3a\"],[0.8888888888888888,\"#fdca26\"],[1.0,\"#f0f921\"]],\"diverging\":[[0,\"#8e0152\"],[0.1,\"#c51b7d\"],[0.2,\"#de77ae\"],[0.3,\"#f1b6da\"],[0.4,\"#fde0ef\"],[0.5,\"#f7f7f7\"],[0.6,\"#e6f5d0\"],[0.7,\"#b8e186\"],[0.8,\"#7fbc41\"],[0.9,\"#4d9221\"],[1,\"#276419\"]]},\"xaxis\":{\"gridcolor\":\"white\",\"linecolor\":\"white\",\"ticks\":\"\",\"title\":{\"standoff\":15},\"zerolinecolor\":\"white\",\"automargin\":true,\"zerolinewidth\":2},\"yaxis\":{\"gridcolor\":\"white\",\"linecolor\":\"white\",\"ticks\":\"\",\"title\":{\"standoff\":15},\"zerolinecolor\":\"white\",\"automargin\":true,\"zerolinewidth\":2},\"scene\":{\"xaxis\":{\"backgroundcolor\":\"#E5ECF6\",\"gridcolor\":\"white\",\"linecolor\":\"white\",\"showbackground\":true,\"ticks\":\"\",\"zerolinecolor\":\"white\",\"gridwidth\":2},\"yaxis\":{\"backgroundcolor\":\"#E5ECF6\",\"gridcolor\":\"white\",\"linecolor\":\"white\",\"showbackground\":true,\"ticks\":\"\",\"zerolinecolor\":\"white\",\"gridwidth\":2},\"zaxis\":{\"backgroundcolor\":\"#E5ECF6\",\"gridcolor\":\"white\",\"linecolor\":\"white\",\"showbackground\":true,\"ticks\":\"\",\"zerolinecolor\":\"white\",\"gridwidth\":2}},\"shapedefaults\":{\"line\":{\"color\":\"#2a3f5f\"}},\"annotationdefaults\":{\"arrowcolor\":\"#2a3f5f\",\"arrowhead\":0,\"arrowwidth\":1},\"geo\":{\"bgcolor\":\"white\",\"landcolor\":\"#E5ECF6\",\"subunitcolor\":\"white\",\"showland\":true,\"showlakes\":true,\"lakecolor\":\"white\"},\"title\":{\"x\":0.05},\"mapbox\":{\"style\":\"light\"}}},\"xaxis\":{\"anchor\":\"y\",\"domain\":[0.0,1.0],\"title\":{\"text\":\"Acceleration\"},\"type\":\"log\"},\"yaxis\":{\"anchor\":\"x\",\"domain\":[0.0,1.0],\"title\":{\"text\":\"MPG\"}},\"legend\":{\"title\":{\"text\":\"Origin\"},\"tracegroupgap\":0},\"margin\":{\"t\":60},\"updatemenus\":[{\"buttons\":[{\"args\":[null,{\"frame\":{\"duration\":500,\"redraw\":false},\"mode\":\"immediate\",\"fromcurrent\":true,\"transition\":{\"duration\":500,\"easing\":\"linear\"}}],\"label\":\"&#9654;\",\"method\":\"animate\"},{\"args\":[[null],{\"frame\":{\"duration\":0,\"redraw\":false},\"mode\":\"immediate\",\"fromcurrent\":true,\"transition\":{\"duration\":0,\"easing\":\"linear\"}}],\"label\":\"&#9724;\",\"method\":\"animate\"}],\"direction\":\"left\",\"pad\":{\"r\":10,\"t\":70},\"showactive\":false,\"type\":\"buttons\",\"x\":0.1,\"xanchor\":\"right\",\"y\":0,\"yanchor\":\"top\"}],\"sliders\":[{\"active\":0,\"currentvalue\":{\"prefix\":\"Model Year=\"},\"len\":0.9,\"pad\":{\"b\":10,\"t\":60},\"steps\":[{\"args\":[[\"70\"],{\"frame\":{\"duration\":0,\"redraw\":false},\"mode\":\"immediate\",\"fromcurrent\":true,\"transition\":{\"duration\":0,\"easing\":\"linear\"}}],\"label\":\"70\",\"method\":\"animate\"},{\"args\":[[\"71\"],{\"frame\":{\"duration\":0,\"redraw\":false},\"mode\":\"immediate\",\"fromcurrent\":true,\"transition\":{\"duration\":0,\"easing\":\"linear\"}}],\"label\":\"71\",\"method\":\"animate\"},{\"args\":[[\"72\"],{\"frame\":{\"duration\":0,\"redraw\":false},\"mode\":\"immediate\",\"fromcurrent\":true,\"transition\":{\"duration\":0,\"easing\":\"linear\"}}],\"label\":\"72\",\"method\":\"animate\"},{\"args\":[[\"73\"],{\"frame\":{\"duration\":0,\"redraw\":false},\"mode\":\"immediate\",\"fromcurrent\":true,\"transition\":{\"duration\":0,\"easing\":\"linear\"}}],\"label\":\"73\",\"method\":\"animate\"},{\"args\":[[\"74\"],{\"frame\":{\"duration\":0,\"redraw\":false},\"mode\":\"immediate\",\"fromcurrent\":true,\"transition\":{\"duration\":0,\"easing\":\"linear\"}}],\"label\":\"74\",\"method\":\"animate\"},{\"args\":[[\"75\"],{\"frame\":{\"duration\":0,\"redraw\":false},\"mode\":\"immediate\",\"fromcurrent\":true,\"transition\":{\"duration\":0,\"easing\":\"linear\"}}],\"label\":\"75\",\"method\":\"animate\"},{\"args\":[[\"76\"],{\"frame\":{\"duration\":0,\"redraw\":false},\"mode\":\"immediate\",\"fromcurrent\":true,\"transition\":{\"duration\":0,\"easing\":\"linear\"}}],\"label\":\"76\",\"method\":\"animate\"},{\"args\":[[\"77\"],{\"frame\":{\"duration\":0,\"redraw\":false},\"mode\":\"immediate\",\"fromcurrent\":true,\"transition\":{\"duration\":0,\"easing\":\"linear\"}}],\"label\":\"77\",\"method\":\"animate\"},{\"args\":[[\"78\"],{\"frame\":{\"duration\":0,\"redraw\":false},\"mode\":\"immediate\",\"fromcurrent\":true,\"transition\":{\"duration\":0,\"easing\":\"linear\"}}],\"label\":\"78\",\"method\":\"animate\"},{\"args\":[[\"79\"],{\"frame\":{\"duration\":0,\"redraw\":false},\"mode\":\"immediate\",\"fromcurrent\":true,\"transition\":{\"duration\":0,\"easing\":\"linear\"}}],\"label\":\"79\",\"method\":\"animate\"},{\"args\":[[\"80\"],{\"frame\":{\"duration\":0,\"redraw\":false},\"mode\":\"immediate\",\"fromcurrent\":true,\"transition\":{\"duration\":0,\"easing\":\"linear\"}}],\"label\":\"80\",\"method\":\"animate\"},{\"args\":[[\"81\"],{\"frame\":{\"duration\":0,\"redraw\":false},\"mode\":\"immediate\",\"fromcurrent\":true,\"transition\":{\"duration\":0,\"easing\":\"linear\"}}],\"label\":\"81\",\"method\":\"animate\"},{\"args\":[[\"82\"],{\"frame\":{\"duration\":0,\"redraw\":false},\"mode\":\"immediate\",\"fromcurrent\":true,\"transition\":{\"duration\":0,\"easing\":\"linear\"}}],\"label\":\"82\",\"method\":\"animate\"}],\"x\":0.1,\"xanchor\":\"left\",\"y\":0,\"yanchor\":\"top\"}]},                        {\"responsive\": true}                    ).then(function(){\n",
       "                            Plotly.addFrames('592fbfdc-e8ac-4cfb-9b09-6a82a4bc8a98', [{\"data\":[{\"hovertemplate\":\"<b>%{hovertext}</b><br><br>Origin=USA<br>Model Year=70<br>Acceleration=%{x}<br>MPG=%{y}<extra></extra>\",\"hovertext\":[130.0,165.0,150.0,150.0,140.0,198.0,220.0,215.0,225.0,190.0,170.0,160.0,150.0,225.0,95.0,97.0,85.0,90.0,215.0,200.0,210.0,193.0],\"ids\":[130.0,165.0,150.0,150.0,140.0,198.0,220.0,215.0,225.0,190.0,170.0,160.0,150.0,225.0,95.0,97.0,85.0,90.0,215.0,200.0,210.0,193.0],\"legendgroup\":\"USA\",\"marker\":{\"color\":\"#636efa\",\"symbol\":\"circle\"},\"mode\":\"markers\",\"name\":\"USA\",\"orientation\":\"v\",\"showlegend\":true,\"x\":[12.0,11.5,11.0,12.0,10.5,10.0,9.0,8.5,10.0,8.5,10.0,8.0,9.5,10.0,15.5,15.5,16.0,15.0,14.0,15.0,13.5,18.5],\"xaxis\":\"x\",\"y\":[18.0,15.0,18.0,16.0,17.0,15.0,14.0,14.0,14.0,15.0,15.0,14.0,15.0,14.0,22.0,18.0,21.0,21.0,10.0,10.0,11.0,9.0],\"yaxis\":\"y\",\"type\":\"scatter\"},{\"hovertemplate\":\"<b>%{hovertext}</b><br><br>Origin=Japan<br>Model Year=70<br>Acceleration=%{x}<br>MPG=%{y}<extra></extra>\",\"hovertext\":[95.0,88.0],\"ids\":[95.0,88.0],\"legendgroup\":\"Japan\",\"marker\":{\"color\":\"#EF553B\",\"symbol\":\"circle\"},\"mode\":\"markers\",\"name\":\"Japan\",\"orientation\":\"v\",\"showlegend\":true,\"x\":[15.0,14.5],\"xaxis\":\"x\",\"y\":[24.0,27.0],\"yaxis\":\"y\",\"type\":\"scatter\"},{\"hovertemplate\":\"<b>%{hovertext}</b><br><br>Origin=Europe<br>Model Year=70<br>Acceleration=%{x}<br>MPG=%{y}<extra></extra>\",\"hovertext\":[46.0,87.0,90.0,95.0,113.0],\"ids\":[46.0,87.0,90.0,95.0,113.0],\"legendgroup\":\"Europe\",\"marker\":{\"color\":\"#00cc96\",\"symbol\":\"circle\"},\"mode\":\"markers\",\"name\":\"Europe\",\"orientation\":\"v\",\"showlegend\":true,\"x\":[20.5,17.5,14.5,17.5,12.5],\"xaxis\":\"x\",\"y\":[26.0,25.0,24.0,25.0,26.0],\"yaxis\":\"y\",\"type\":\"scatter\"}],\"name\":\"70\"},{\"data\":[{\"hovertemplate\":\"<b>%{hovertext}</b><br><br>Origin=USA<br>Model Year=71<br>Acceleration=%{x}<br>MPG=%{y}<extra></extra>\",\"hovertext\":[90.0,104.46938775510205,100.0,105.0,100.0,88.0,100.0,165.0,175.0,153.0,150.0,180.0,170.0,175.0,110.0,72.0,100.0,88.0,86.0,70.0],\"ids\":[90.0,104.46938775510205,100.0,105.0,100.0,88.0,100.0,165.0,175.0,153.0,150.0,180.0,170.0,175.0,110.0,72.0,100.0,88.0,86.0,70.0],\"legendgroup\":\"USA\",\"marker\":{\"color\":\"#636efa\",\"symbol\":\"circle\"},\"mode\":\"markers\",\"name\":\"USA\",\"orientation\":\"v\",\"showlegend\":true,\"x\":[15.5,19.0,13.0,15.5,15.5,15.5,15.5,12.0,11.5,13.5,13.0,11.5,12.0,12.0,13.5,19.0,15.0,14.5,14.0,20.5],\"xaxis\":\"x\",\"y\":[28.0,25.0,19.0,16.0,17.0,19.0,18.0,14.0,14.0,14.0,14.0,12.0,13.0,13.0,18.0,22.0,19.0,18.0,23.0,26.0],\"yaxis\":\"y\",\"type\":\"scatter\"},{\"hovertemplate\":\"<b>%{hovertext}</b><br><br>Origin=Japan<br>Model Year=71<br>Acceleration=%{x}<br>MPG=%{y}<extra></extra>\",\"hovertext\":[88.0,95.0,65.0,69.0],\"ids\":[88.0,95.0,65.0,69.0],\"legendgroup\":\"Japan\",\"marker\":{\"color\":\"#EF553B\",\"symbol\":\"circle\"},\"mode\":\"markers\",\"name\":\"Japan\",\"orientation\":\"v\",\"showlegend\":true,\"x\":[14.5,14.0,19.0,18.0],\"xaxis\":\"x\",\"y\":[27.0,25.0,31.0,35.0],\"yaxis\":\"y\",\"type\":\"scatter\"},{\"hovertemplate\":\"<b>%{hovertext}</b><br><br>Origin=Europe<br>Model Year=71<br>Acceleration=%{x}<br>MPG=%{y}<extra></extra>\",\"hovertext\":[90.0,70.0,76.0,60.0],\"ids\":[90.0,70.0,76.0,60.0],\"legendgroup\":\"Europe\",\"marker\":{\"color\":\"#00cc96\",\"symbol\":\"circle\"},\"mode\":\"markers\",\"name\":\"Europe\",\"orientation\":\"v\",\"showlegend\":true,\"x\":[14.0,19.5,14.5,19.0],\"xaxis\":\"x\",\"y\":[28.0,30.0,30.0,27.0],\"yaxis\":\"y\",\"type\":\"scatter\"}],\"name\":\"71\"},{\"data\":[{\"hovertemplate\":\"<b>%{hovertext}</b><br><br>Origin=USA<br>Model Year=72<br>Acceleration=%{x}<br>MPG=%{y}<extra></extra>\",\"hovertext\":[80.0,90.0,86.0,165.0,175.0,150.0,153.0,150.0,208.0,155.0,160.0,190.0,150.0,130.0,140.0,150.0,86.0,80.0],\"ids\":[80.0,90.0,86.0,165.0,175.0,150.0,153.0,150.0,208.0,155.0,160.0,190.0,150.0,130.0,140.0,150.0,86.0,80.0],\"legendgroup\":\"USA\",\"marker\":{\"color\":\"#636efa\",\"symbol\":\"circle\"},\"mode\":\"markers\",\"name\":\"USA\",\"orientation\":\"v\",\"showlegend\":true,\"x\":[17.0,19.5,16.5,12.0,12.0,13.5,13.0,11.5,11.0,13.5,13.5,12.5,12.5,14.0,16.0,14.0,16.0,15.0],\"xaxis\":\"x\",\"y\":[25.0,20.0,21.0,13.0,14.0,15.0,14.0,17.0,11.0,13.0,12.0,13.0,15.0,13.0,13.0,14.0,22.0,28.0],\"yaxis\":\"y\",\"type\":\"scatter\"},{\"hovertemplate\":\"<b>%{hovertext}</b><br><br>Origin=Japan<br>Model Year=72<br>Acceleration=%{x}<br>MPG=%{y}<extra></extra>\",\"hovertext\":[95.0,97.0,92.0,97.0,88.0],\"ids\":[95.0,97.0,92.0,97.0,88.0],\"legendgroup\":\"Japan\",\"marker\":{\"color\":\"#EF553B\",\"symbol\":\"circle\"},\"mode\":\"markers\",\"name\":\"Japan\",\"orientation\":\"v\",\"showlegend\":true,\"x\":[15.5,13.5,17.0,14.5,16.5],\"xaxis\":\"x\",\"y\":[24.0,19.0,28.0,23.0,27.0],\"yaxis\":\"y\",\"type\":\"scatter\"},{\"hovertemplate\":\"<b>%{hovertext}</b><br><br>Origin=Europe<br>Model Year=72<br>Acceleration=%{x}<br>MPG=%{y}<extra></extra>\",\"hovertext\":[54.0,112.0,76.0,87.0,69.0],\"ids\":[54.0,112.0,76.0,87.0,69.0],\"legendgroup\":\"Europe\",\"marker\":{\"color\":\"#00cc96\",\"symbol\":\"circle\"},\"mode\":\"markers\",\"name\":\"Europe\",\"orientation\":\"v\",\"showlegend\":true,\"x\":[23.5,14.5,18.0,19.5,18.0],\"xaxis\":\"x\",\"y\":[23.0,18.0,22.0,21.0,26.0],\"yaxis\":\"y\",\"type\":\"scatter\"}],\"name\":\"72\"},{\"data\":[{\"hovertemplate\":\"<b>%{hovertext}</b><br><br>Origin=USA<br>Model Year=73<br>Acceleration=%{x}<br>MPG=%{y}<extra></extra>\",\"hovertext\":[175.0,150.0,145.0,137.0,150.0,198.0,150.0,158.0,150.0,215.0,225.0,175.0,105.0,100.0,100.0,88.0,95.0,150.0,167.0,170.0,180.0,100.0,72.0,85.0,107.0,145.0,230.0,150.0,180.0],\"ids\":[175.0,150.0,145.0,137.0,150.0,198.0,150.0,158.0,150.0,215.0,225.0,175.0,105.0,100.0,100.0,88.0,95.0,150.0,167.0,170.0,180.0,100.0,72.0,85.0,107.0,145.0,230.0,150.0,180.0],\"legendgroup\":\"USA\",\"marker\":{\"color\":\"#636efa\",\"symbol\":\"circle\"},\"mode\":\"markers\",\"name\":\"USA\",\"orientation\":\"v\",\"showlegend\":true,\"x\":[13.0,11.5,13.0,14.5,12.5,11.5,12.0,13.0,14.5,11.0,11.0,11.0,16.5,18.0,16.0,16.5,16.0,14.0,12.5,13.0,12.5,15.0,19.5,18.5,14.0,13.0,9.5,11.0,11.0],\"xaxis\":\"x\",\"y\":[13.0,14.0,13.0,14.0,15.0,12.0,13.0,13.0,14.0,13.0,12.0,13.0,18.0,16.0,18.0,18.0,23.0,11.0,12.0,13.0,12.0,18.0,21.0,19.0,21.0,15.0,16.0,15.0,11.0],\"yaxis\":\"y\",\"type\":\"scatter\"},{\"hovertemplate\":\"<b>%{hovertext}</b><br><br>Origin=Japan<br>Model Year=73<br>Acceleration=%{x}<br>MPG=%{y}<extra></extra>\",\"hovertext\":[88.0,94.0,90.0,122.0],\"ids\":[88.0,94.0,90.0,122.0],\"legendgroup\":\"Japan\",\"marker\":{\"color\":\"#EF553B\",\"symbol\":\"circle\"},\"mode\":\"markers\",\"name\":\"Japan\",\"orientation\":\"v\",\"showlegend\":true,\"x\":[19.0,16.5,13.5,13.5],\"xaxis\":\"x\",\"y\":[20.0,22.0,18.0,20.0],\"yaxis\":\"y\",\"type\":\"scatter\"},{\"hovertemplate\":\"<b>%{hovertext}</b><br><br>Origin=Europe<br>Model Year=73<br>Acceleration=%{x}<br>MPG=%{y}<extra></extra>\",\"hovertext\":[46.0,90.0,49.0,75.0,91.0,112.0,110.0],\"ids\":[46.0,90.0,49.0,75.0,91.0,112.0,110.0],\"legendgroup\":\"Europe\",\"marker\":{\"color\":\"#00cc96\",\"symbol\":\"circle\"},\"mode\":\"markers\",\"name\":\"Europe\",\"orientation\":\"v\",\"showlegend\":true,\"x\":[21.0,15.5,19.5,15.5,14.0,15.5,14.0],\"xaxis\":\"x\",\"y\":[26.0,26.0,29.0,24.0,20.0,19.0,24.0],\"yaxis\":\"y\",\"type\":\"scatter\"}],\"name\":\"73\"},{\"data\":[{\"hovertemplate\":\"<b>%{hovertext}</b><br><br>Origin=USA<br>Model Year=74<br>Acceleration=%{x}<br>MPG=%{y}<extra></extra>\",\"hovertext\":[95.0,104.46938775510205,100.0,100.0,80.0,75.0,100.0,110.0,105.0,140.0,150.0,150.0,140.0,150.0,75.0],\"ids\":[95.0,104.46938775510205,100.0,100.0,80.0,75.0,100.0,110.0,105.0,140.0,150.0,150.0,140.0,150.0,75.0],\"legendgroup\":\"USA\",\"marker\":{\"color\":\"#636efa\",\"symbol\":\"circle\"},\"mode\":\"markers\",\"name\":\"USA\",\"orientation\":\"v\",\"showlegend\":true,\"x\":[16.5,17.0,16.0,17.0,16.5,17.0,17.0,18.0,16.5,14.0,14.5,13.5,16.0,15.5,14.5],\"xaxis\":\"x\",\"y\":[20.0,21.0,19.0,15.0,26.0,25.0,16.0,16.0,18.0,16.0,13.0,14.0,14.0,14.0,28.0],\"yaxis\":\"y\",\"type\":\"scatter\"},{\"hovertemplate\":\"<b>%{hovertext}</b><br><br>Origin=Japan<br>Model Year=74<br>Acceleration=%{x}<br>MPG=%{y}<extra></extra>\",\"hovertext\":[67.0,65.0,52.0,61.0,97.0,93.0],\"ids\":[67.0,65.0,52.0,61.0,97.0,93.0],\"legendgroup\":\"Japan\",\"marker\":{\"color\":\"#EF553B\",\"symbol\":\"circle\"},\"mode\":\"markers\",\"name\":\"Japan\",\"orientation\":\"v\",\"showlegend\":true,\"x\":[19.0,21.0,16.5,19.0,15.0,15.5],\"xaxis\":\"x\",\"y\":[31.0,32.0,31.0,32.0,24.0,26.0],\"yaxis\":\"y\",\"type\":\"scatter\"},{\"hovertemplate\":\"<b>%{hovertext}</b><br><br>Origin=Europe<br>Model Year=74<br>Acceleration=%{x}<br>MPG=%{y}<extra></extra>\",\"hovertext\":[83.0,67.0,78.0,75.0,75.0,67.0],\"ids\":[83.0,67.0,78.0,75.0,75.0,67.0],\"legendgroup\":\"Europe\",\"marker\":{\"color\":\"#00cc96\",\"symbol\":\"circle\"},\"mode\":\"markers\",\"name\":\"Europe\",\"orientation\":\"v\",\"showlegend\":true,\"x\":[16.5,15.5,14.5,15.5,14.0,16.0],\"xaxis\":\"x\",\"y\":[29.0,26.0,26.0,24.0,26.0,31.0],\"yaxis\":\"y\",\"type\":\"scatter\"}],\"name\":\"74\"},{\"data\":[{\"hovertemplate\":\"<b>%{hovertext}</b><br><br>Origin=USA<br>Model Year=75<br>Acceleration=%{x}<br>MPG=%{y}<extra></extra>\",\"hovertext\":[95.0,105.0,72.0,72.0,170.0,145.0,150.0,148.0,110.0,105.0,110.0,95.0,110.0,110.0,129.0,83.0,100.0,78.0,97.0,90.0],\"ids\":[95.0,105.0,72.0,72.0,170.0,145.0,150.0,148.0,110.0,105.0,110.0,95.0,110.0,110.0,129.0,83.0,100.0,78.0,97.0,90.0],\"legendgroup\":\"USA\",\"marker\":{\"color\":\"#636efa\",\"symbol\":\"circle\"},\"mode\":\"markers\",\"name\":\"USA\",\"orientation\":\"v\",\"showlegend\":true,\"x\":[16.0,16.0,21.0,19.5,11.5,14.0,14.5,13.5,21.0,18.5,19.0,19.0,15.0,13.5,12.0,17.0,16.0,18.5,14.5,17.0],\"xaxis\":\"x\",\"y\":[19.0,18.0,15.0,15.0,16.0,15.0,16.0,14.0,17.0,16.0,15.0,18.0,21.0,20.0,13.0,23.0,20.0,23.0,18.0,19.0],\"yaxis\":\"y\",\"type\":\"scatter\"},{\"hovertemplate\":\"<b>%{hovertext}</b><br><br>Origin=Japan<br>Model Year=75<br>Acceleration=%{x}<br>MPG=%{y}<extra></extra>\",\"hovertext\":[75.0,96.0,97.0,53.0],\"ids\":[75.0,96.0,97.0,53.0],\"legendgroup\":\"Japan\",\"marker\":{\"color\":\"#EF553B\",\"symbol\":\"circle\"},\"mode\":\"markers\",\"name\":\"Japan\",\"orientation\":\"v\",\"showlegend\":true,\"x\":[16.0,13.5,17.0,17.5],\"xaxis\":\"x\",\"y\":[29.0,24.0,24.0,33.0],\"yaxis\":\"y\",\"type\":\"scatter\"},{\"hovertemplate\":\"<b>%{hovertext}</b><br><br>Origin=Europe<br>Model Year=75<br>Acceleration=%{x}<br>MPG=%{y}<extra></extra>\",\"hovertext\":[71.0,70.0,95.0,88.0,98.0,115.0],\"ids\":[71.0,70.0,95.0,88.0,98.0,115.0],\"legendgroup\":\"Europe\",\"marker\":{\"color\":\"#00cc96\",\"symbol\":\"circle\"},\"mode\":\"markers\",\"name\":\"Europe\",\"orientation\":\"v\",\"showlegend\":true,\"x\":[16.5,14.0,15.0,17.0,14.5,13.5],\"xaxis\":\"x\",\"y\":[25.0,29.0,23.0,23.0,22.0,25.0],\"yaxis\":\"y\",\"type\":\"scatter\"}],\"name\":\"75\"},{\"data\":[{\"hovertemplate\":\"<b>%{hovertext}</b><br><br>Origin=USA<br>Model Year=76<br>Acceleration=%{x}<br>MPG=%{y}<extra></extra>\",\"hovertext\":[92.0,79.0,140.0,150.0,120.0,152.0,100.0,105.0,81.0,90.0,52.0,60.0,100.0,78.0,110.0,95.0,72.0,150.0,180.0,145.0,130.0,150.0],\"ids\":[92.0,79.0,140.0,150.0,120.0,152.0,100.0,105.0,81.0,90.0,52.0,60.0,100.0,78.0,110.0,95.0,72.0,150.0,180.0,145.0,130.0,150.0],\"legendgroup\":\"USA\",\"marker\":{\"color\":\"#636efa\",\"symbol\":\"circle\"},\"mode\":\"markers\",\"name\":\"USA\",\"orientation\":\"v\",\"showlegend\":true,\"x\":[14.9,17.7,13.0,13.0,13.9,12.8,15.4,14.5,17.6,17.6,22.2,22.1,17.7,21.0,16.2,17.8,13.6,13.2,12.1,12.0,15.0,14.0],\"xaxis\":\"x\",\"y\":[25.0,26.0,17.5,16.0,15.5,14.5,22.0,22.0,24.0,22.5,29.0,24.5,20.0,18.0,18.5,17.5,26.5,13.0,16.5,13.0,13.0,13.0],\"yaxis\":\"y\",\"type\":\"scatter\"},{\"hovertemplate\":\"<b>%{hovertext}</b><br><br>Origin=Japan<br>Model Year=76<br>Acceleration=%{x}<br>MPG=%{y}<extra></extra>\",\"hovertext\":[53.0,70.0,75.0,108.0],\"ids\":[53.0,70.0,75.0,108.0],\"legendgroup\":\"Japan\",\"marker\":{\"color\":\"#EF553B\",\"symbol\":\"circle\"},\"mode\":\"markers\",\"name\":\"Japan\",\"orientation\":\"v\",\"showlegend\":true,\"x\":[17.4,17.0,16.4,15.5],\"xaxis\":\"x\",\"y\":[33.0,32.0,28.0,19.0],\"yaxis\":\"y\",\"type\":\"scatter\"},{\"hovertemplate\":\"<b>%{hovertext}</b><br><br>Origin=Europe<br>Model Year=76<br>Acceleration=%{x}<br>MPG=%{y}<extra></extra>\",\"hovertext\":[86.0,81.0,83.0,70.0,71.0,102.0,88.0,120.0],\"ids\":[86.0,81.0,83.0,70.0,71.0,102.0,88.0,120.0],\"legendgroup\":\"Europe\",\"marker\":{\"color\":\"#00cc96\",\"symbol\":\"circle\"},\"mode\":\"markers\",\"name\":\"Europe\",\"orientation\":\"v\",\"showlegend\":true,\"x\":[15.5,16.9,15.3,14.2,12.2,15.7,21.9,16.7],\"xaxis\":\"x\",\"y\":[28.0,25.0,27.0,29.0,29.5,20.0,19.0,16.5],\"yaxis\":\"y\",\"type\":\"scatter\"}],\"name\":\"76\"},{\"data\":[{\"hovertemplate\":\"<b>%{hovertext}</b><br><br>Origin=USA<br>Model Year=77<br>Acceleration=%{x}<br>MPG=%{y}<extra></extra>\",\"hovertext\":[80.0,96.0,145.0,110.0,145.0,130.0,110.0,105.0,100.0,98.0,180.0,170.0,190.0,149.0,88.0,89.0,63.0,83.0],\"ids\":[80.0,96.0,145.0,110.0,145.0,130.0,110.0,105.0,100.0,98.0,180.0,170.0,190.0,149.0,88.0,89.0,63.0,83.0],\"legendgroup\":\"USA\",\"marker\":{\"color\":\"#636efa\",\"symbol\":\"circle\"},\"mode\":\"markers\",\"name\":\"USA\",\"orientation\":\"v\",\"showlegend\":true,\"x\":[14.8,15.5,12.5,19.0,13.7,14.9,16.4,16.9,17.7,19.0,11.1,11.4,12.2,14.5,16.0,15.8,17.0,15.9],\"xaxis\":\"x\",\"y\":[30.0,25.5,17.5,17.0,15.5,15.0,17.5,20.5,19.0,18.5,16.0,15.5,15.5,16.0,24.5,25.5,30.5,33.5],\"yaxis\":\"y\",\"type\":\"scatter\"},{\"hovertemplate\":\"<b>%{hovertext}</b><br><br>Origin=Japan<br>Model Year=77<br>Acceleration=%{x}<br>MPG=%{y}<extra></extra>\",\"hovertext\":[68.0,70.0,75.0,67.0,97.0,110.0],\"ids\":[68.0,70.0,75.0,67.0,97.0,110.0],\"legendgroup\":\"Japan\",\"marker\":{\"color\":\"#EF553B\",\"symbol\":\"circle\"},\"mode\":\"markers\",\"name\":\"Japan\",\"orientation\":\"v\",\"showlegend\":true,\"x\":[18.5,16.8,18.2,16.4,14.5,13.5],\"xaxis\":\"x\",\"y\":[31.5,33.5,26.0,30.0,22.0,21.5],\"yaxis\":\"y\",\"type\":\"scatter\"},{\"hovertemplate\":\"<b>%{hovertext}</b><br><br>Origin=Europe<br>Model Year=77<br>Acceleration=%{x}<br>MPG=%{y}<extra></extra>\",\"hovertext\":[58.0,78.0,78.0,110.0],\"ids\":[58.0,78.0,78.0,110.0],\"legendgroup\":\"Europe\",\"marker\":{\"color\":\"#00cc96\",\"symbol\":\"circle\"},\"mode\":\"markers\",\"name\":\"Europe\",\"orientation\":\"v\",\"showlegend\":true,\"x\":[18.6,14.5,14.1,12.8],\"xaxis\":\"x\",\"y\":[36.0,29.0,30.5,21.5],\"yaxis\":\"y\",\"type\":\"scatter\"}],\"name\":\"77\"},{\"data\":[{\"hovertemplate\":\"<b>%{hovertext}</b><br><br>Origin=USA<br>Model Year=78<br>Acceleration=%{x}<br>MPG=%{y}<extra></extra>\",\"hovertext\":[66.0,110.0,140.0,139.0,105.0,95.0,85.0,88.0,100.0,90.0,105.0,85.0,110.0,120.0,145.0,165.0,139.0,140.0,68.0,75.0,105.0,85.0],\"ids\":[66.0,110.0,140.0,139.0,105.0,95.0,85.0,88.0,100.0,90.0,105.0,85.0,110.0,120.0,145.0,165.0,139.0,140.0,68.0,75.0,105.0,85.0],\"legendgroup\":\"USA\",\"marker\":{\"color\":\"#636efa\",\"symbol\":\"circle\"},\"mode\":\"markers\",\"name\":\"USA\",\"orientation\":\"v\",\"showlegend\":true,\"x\":[14.4,15.5,13.2,12.8,19.2,18.2,15.8,15.4,17.2,17.2,15.8,16.7,18.7,15.1,13.2,13.4,11.2,13.7,16.5,14.5,16.7,17.6],\"xaxis\":\"x\",\"y\":[36.1,19.9,19.4,20.2,19.2,20.5,20.2,25.1,20.5,19.4,20.6,20.8,18.6,18.1,19.2,17.7,18.1,17.5,30.0,30.9,23.2,23.8],\"yaxis\":\"y\",\"type\":\"scatter\"},{\"hovertemplate\":\"<b>%{hovertext}</b><br><br>Origin=Japan<br>Model Year=78<br>Acceleration=%{x}<br>MPG=%{y}<extra></extra>\",\"hovertext\":[52.0,70.0,60.0,95.0,97.0,95.0,97.0,68.0],\"ids\":[52.0,70.0,60.0,95.0,97.0,95.0,97.0,68.0],\"legendgroup\":\"Japan\",\"marker\":{\"color\":\"#EF553B\",\"symbol\":\"circle\"},\"mode\":\"markers\",\"name\":\"Japan\",\"orientation\":\"v\",\"showlegend\":true,\"x\":[19.4,18.6,16.4,14.2,14.7,14.8,14.9,16.6],\"xaxis\":\"x\",\"y\":[32.8,39.4,36.1,27.5,27.2,21.1,23.9,29.5],\"yaxis\":\"y\",\"type\":\"scatter\"},{\"hovertemplate\":\"<b>%{hovertext}</b><br><br>Origin=Europe<br>Model Year=78<br>Acceleration=%{x}<br>MPG=%{y}<extra></extra>\",\"hovertext\":[48.0,103.0,125.0,115.0,133.0,71.0],\"ids\":[48.0,103.0,125.0,115.0,133.0,71.0],\"legendgroup\":\"Europe\",\"marker\":{\"color\":\"#00cc96\",\"symbol\":\"circle\"},\"mode\":\"markers\",\"name\":\"Europe\",\"orientation\":\"v\",\"showlegend\":true,\"x\":[21.5,15.9,13.6,15.7,15.8,14.9],\"xaxis\":\"x\",\"y\":[43.1,20.3,17.0,21.6,16.2,31.5],\"yaxis\":\"y\",\"type\":\"scatter\"}],\"name\":\"78\"},{\"data\":[{\"hovertemplate\":\"<b>%{hovertext}</b><br><br>Origin=USA<br>Model Year=79<br>Acceleration=%{x}<br>MPG=%{y}<extra></extra>\",\"hovertext\":[115.0,85.0,88.0,90.0,110.0,130.0,129.0,138.0,135.0,155.0,142.0,125.0,150.0,80.0,80.0,125.0,90.0,70.0,70.0,90.0,115.0,115.0,90.0],\"ids\":[115.0,85.0,88.0,90.0,110.0,130.0,129.0,138.0,135.0,155.0,142.0,125.0,150.0,80.0,80.0,125.0,90.0,70.0,70.0,90.0,115.0,115.0,90.0],\"legendgroup\":\"USA\",\"marker\":{\"color\":\"#636efa\",\"symbol\":\"circle\"},\"mode\":\"markers\",\"name\":\"USA\",\"orientation\":\"v\",\"showlegend\":true,\"x\":[15.4,18.2,17.3,18.2,16.6,15.4,13.4,13.2,15.2,14.9,14.3,15.0,13.0,14.4,15.0,17.4,22.2,13.2,14.9,16.0,11.3,12.9,13.2],\"xaxis\":\"x\",\"y\":[21.5,19.8,22.3,20.2,20.6,17.0,17.6,16.5,18.2,16.9,15.5,19.2,18.5,35.7,27.4,23.0,23.9,34.2,34.5,28.4,28.8,26.8,33.5],\"yaxis\":\"y\",\"type\":\"scatter\"},{\"hovertemplate\":\"<b>%{hovertext}</b><br><br>Origin=Japan<br>Model Year=79<br>Acceleration=%{x}<br>MPG=%{y}<extra></extra>\",\"hovertext\":[65.0,65.0],\"ids\":[65.0,65.0],\"legendgroup\":\"Japan\",\"marker\":{\"color\":\"#EF553B\",\"symbol\":\"circle\"},\"mode\":\"markers\",\"name\":\"Japan\",\"orientation\":\"v\",\"showlegend\":true,\"x\":[15.2,19.2],\"xaxis\":\"x\",\"y\":[34.1,31.8],\"yaxis\":\"y\",\"type\":\"scatter\"},{\"hovertemplate\":\"<b>%{hovertext}</b><br><br>Origin=Europe<br>Model Year=79<br>Acceleration=%{x}<br>MPG=%{y}<extra></extra>\",\"hovertext\":[71.0,77.0,71.0,69.0],\"ids\":[71.0,77.0,71.0,69.0],\"legendgroup\":\"Europe\",\"marker\":{\"color\":\"#00cc96\",\"symbol\":\"circle\"},\"mode\":\"markers\",\"name\":\"Europe\",\"orientation\":\"v\",\"showlegend\":true,\"x\":[14.0,20.1,24.8,14.7],\"xaxis\":\"x\",\"y\":[31.9,25.4,27.2,37.3],\"yaxis\":\"y\",\"type\":\"scatter\"}],\"name\":\"79\"},{\"data\":[{\"hovertemplate\":\"<b>%{hovertext}</b><br><br>Origin=USA<br>Model Year=80<br>Acceleration=%{x}<br>MPG=%{y}<extra></extra>\",\"hovertext\":[70.0,90.0,88.0,90.0,90.0,105.0,104.46938775510205],\"ids\":[70.0,90.0,88.0,90.0,90.0,105.0,104.46938775510205],\"legendgroup\":\"USA\",\"marker\":{\"color\":\"#636efa\",\"symbol\":\"circle\"},\"mode\":\"markers\",\"name\":\"USA\",\"orientation\":\"v\",\"showlegend\":true,\"x\":[15.5,16.5,18.1,20.1,18.7,14.4,14.3],\"xaxis\":\"x\",\"y\":[32.1,28.0,26.4,24.3,19.1,27.9,23.6],\"yaxis\":\"y\",\"type\":\"scatter\"},{\"hovertemplate\":\"<b>%{hovertext}</b><br><br>Origin=Japan<br>Model Year=80<br>Acceleration=%{x}<br>MPG=%{y}<extra></extra>\",\"hovertext\":[60.0,65.0,90.0,75.0,92.0,75.0,65.0,65.0,67.0,67.0,132.0,100.0,72.0],\"ids\":[60.0,65.0,90.0,75.0,92.0,75.0,65.0,65.0,67.0,67.0,132.0,100.0,72.0],\"legendgroup\":\"Japan\",\"marker\":{\"color\":\"#EF553B\",\"symbol\":\"circle\"},\"mode\":\"markers\",\"name\":\"Japan\",\"orientation\":\"v\",\"showlegend\":true,\"x\":[18.8,16.4,15.5,17.5,15.0,15.2,17.9,19.2,13.8,18.0,11.4,12.5,17.0],\"xaxis\":\"x\",\"y\":[38.1,37.2,29.8,31.3,37.0,32.2,46.6,40.8,44.6,33.8,32.7,23.7,32.4],\"yaxis\":\"y\",\"type\":\"scatter\"},{\"hovertemplate\":\"<b>%{hovertext}</b><br><br>Origin=Europe<br>Model Year=80<br>Acceleration=%{x}<br>MPG=%{y}<extra></extra>\",\"hovertext\":[76.0,78.0,48.0,48.0,67.0,67.0,104.46938775510205,62.0,88.0],\"ids\":[76.0,78.0,48.0,48.0,67.0,67.0,104.46938775510205,62.0,88.0],\"legendgroup\":\"Europe\",\"marker\":{\"color\":\"#00cc96\",\"symbol\":\"circle\"},\"mode\":\"markers\",\"name\":\"Europe\",\"orientation\":\"v\",\"showlegend\":true,\"x\":[14.7,15.8,21.7,23.7,19.9,21.8,17.3,15.3,15.1],\"xaxis\":\"x\",\"y\":[41.5,34.3,44.3,43.4,36.4,30.0,40.9,29.8,35.0],\"yaxis\":\"y\",\"type\":\"scatter\"}],\"name\":\"80\"},{\"data\":[{\"hovertemplate\":\"<b>%{hovertext}</b><br><br>Origin=USA<br>Model Year=81<br>Acceleration=%{x}<br>MPG=%{y}<extra></extra>\",\"hovertext\":[84.0,84.0,92.0,110.0,84.0,64.0,63.0,65.0,65.0,110.0,105.0,88.0,85.0],\"ids\":[84.0,84.0,92.0,110.0,84.0,64.0,63.0,65.0,65.0,110.0,105.0,88.0,85.0],\"legendgroup\":\"USA\",\"marker\":{\"color\":\"#636efa\",\"symbol\":\"circle\"},\"mode\":\"markers\",\"name\":\"USA\",\"orientation\":\"v\",\"showlegend\":true,\"x\":[15.7,16.4,14.4,12.6,12.9,16.4,14.9,16.2,20.7,15.8,19.0,17.1,16.6],\"xaxis\":\"x\",\"y\":[27.2,26.6,25.8,23.5,30.0,39.0,34.7,34.4,29.9,22.4,26.6,20.2,17.6],\"yaxis\":\"y\",\"type\":\"scatter\"},{\"hovertemplate\":\"<b>%{hovertext}</b><br><br>Origin=Japan<br>Model Year=81<br>Acceleration=%{x}<br>MPG=%{y}<extra></extra>\",\"hovertext\":[58.0,60.0,67.0,65.0,62.0,68.0,75.0,75.0,100.0,74.0,116.0,120.0],\"ids\":[58.0,60.0,67.0,65.0,62.0,68.0,75.0,75.0,100.0,74.0,116.0,120.0],\"legendgroup\":\"Japan\",\"marker\":{\"color\":\"#EF553B\",\"symbol\":\"circle\"},\"mode\":\"markers\",\"name\":\"Japan\",\"orientation\":\"v\",\"showlegend\":true,\"x\":[16.9,16.1,17.8,19.4,17.3,16.0,14.4,16.8,14.8,18.3,12.6,13.8],\"xaxis\":\"x\",\"y\":[39.1,35.1,32.3,37.0,37.7,34.1,33.7,32.4,32.9,31.6,25.4,24.2],\"yaxis\":\"y\",\"type\":\"scatter\"},{\"hovertemplate\":\"<b>%{hovertext}</b><br><br>Origin=Europe<br>Model Year=81<br>Acceleration=%{x}<br>MPG=%{y}<extra></extra>\",\"hovertext\":[74.0,104.46938775510205,80.0,76.0],\"ids\":[74.0,104.46938775510205,80.0,76.0],\"legendgroup\":\"Europe\",\"marker\":{\"color\":\"#00cc96\",\"symbol\":\"circle\"},\"mode\":\"markers\",\"name\":\"Europe\",\"orientation\":\"v\",\"showlegend\":true,\"x\":[14.2,15.8,20.4,19.6],\"xaxis\":\"x\",\"y\":[33.0,34.5,28.1,30.7],\"yaxis\":\"y\",\"type\":\"scatter\"}],\"name\":\"81\"},{\"data\":[{\"hovertemplate\":\"<b>%{hovertext}</b><br><br>Origin=USA<br>Model Year=82<br>Acceleration=%{x}<br>MPG=%{y}<extra></extra>\",\"hovertext\":[88.0,88.0,88.0,85.0,84.0,90.0,92.0,104.46938775510205,63.0,70.0,110.0,85.0,92.0,112.0,84.0,90.0,86.0,84.0,79.0,82.0],\"ids\":[88.0,88.0,88.0,85.0,84.0,90.0,92.0,104.46938775510205,63.0,70.0,110.0,85.0,92.0,112.0,84.0,90.0,86.0,84.0,79.0,82.0],\"legendgroup\":\"USA\",\"marker\":{\"color\":\"#636efa\",\"symbol\":\"circle\"},\"mode\":\"markers\",\"name\":\"USA\",\"orientation\":\"v\",\"showlegend\":true,\"x\":[19.6,18.6,18.0,16.2,16.0,18.0,16.4,20.5,14.7,17.3,16.4,17.0,14.5,14.7,13.0,17.3,15.6,11.6,18.6,19.4],\"xaxis\":\"x\",\"y\":[28.0,27.0,34.0,31.0,29.0,27.0,24.0,23.0,38.0,36.0,25.0,38.0,26.0,22.0,36.0,27.0,27.0,32.0,28.0,31.0],\"yaxis\":\"y\",\"type\":\"scatter\"},{\"hovertemplate\":\"<b>%{hovertext}</b><br><br>Origin=Japan<br>Model Year=82<br>Acceleration=%{x}<br>MPG=%{y}<extra></extra>\",\"hovertext\":[68.0,68.0,88.0,75.0,70.0,67.0,67.0,67.0,96.0],\"ids\":[68.0,68.0,88.0,75.0,70.0,67.0,67.0,67.0,96.0],\"legendgroup\":\"Japan\",\"marker\":{\"color\":\"#EF553B\",\"symbol\":\"circle\"},\"mode\":\"markers\",\"name\":\"Japan\",\"orientation\":\"v\",\"showlegend\":true,\"x\":[18.2,17.6,14.5,14.5,16.9,15.0,15.7,16.2,13.9],\"xaxis\":\"x\",\"y\":[37.0,31.0,36.0,36.0,34.0,38.0,32.0,38.0,32.0],\"yaxis\":\"y\",\"type\":\"scatter\"},{\"hovertemplate\":\"<b>%{hovertext}</b><br><br>Origin=Europe<br>Model Year=82<br>Acceleration=%{x}<br>MPG=%{y}<extra></extra>\",\"hovertext\":[74.0,52.0],\"ids\":[74.0,52.0],\"legendgroup\":\"Europe\",\"marker\":{\"color\":\"#00cc96\",\"symbol\":\"circle\"},\"mode\":\"markers\",\"name\":\"Europe\",\"orientation\":\"v\",\"showlegend\":true,\"x\":[15.3,24.6],\"xaxis\":\"x\",\"y\":[36.0,44.0],\"yaxis\":\"y\",\"type\":\"scatter\"}],\"name\":\"82\"}]);\n",
       "                        }).then(function(){\n",
       "                            \n",
       "var gd = document.getElementById('592fbfdc-e8ac-4cfb-9b09-6a82a4bc8a98');\n",
       "var x = new MutationObserver(function (mutations, observer) {{\n",
       "        var display = window.getComputedStyle(gd).display;\n",
       "        if (!display || display === 'none') {{\n",
       "            console.log([gd, 'removed!']);\n",
       "            Plotly.purge(gd);\n",
       "            observer.disconnect();\n",
       "        }}\n",
       "}});\n",
       "\n",
       "// Listen for the removal of the full notebook cells\n",
       "var notebookContainer = gd.closest('#notebook-container');\n",
       "if (notebookContainer) {{\n",
       "    x.observe(notebookContainer, {childList: true});\n",
       "}}\n",
       "\n",
       "// Listen for the clearing of the current output cell\n",
       "var outputEl = gd.closest('.output');\n",
       "if (outputEl) {{\n",
       "    x.observe(outputEl, {childList: true});\n",
       "}}\n",
       "\n",
       "                        })                };                });            </script>        </div>"
      ]
     },
     "metadata": {},
     "output_type": "display_data"
    }
   ],
   "source": [
    "fig= px.scatter(df, x=\"Acceleration\", y=\"MPG\", animation_frame=\"Model Year\",\n",
    "                 animation_group=\"Horsepower\", color=\"Origin\",\n",
    "                 hover_name=\"Horsepower\",\n",
    "                log_x=True)\n",
    "fig.show()"
   ]
  },
  {
   "cell_type": "code",
   "execution_count": null,
   "id": "1966c1db",
   "metadata": {},
   "outputs": [],
   "source": []
  },
  {
   "cell_type": "code",
   "execution_count": null,
   "id": "0b195b98",
   "metadata": {},
   "outputs": [],
   "source": []
  }
 ],
 "metadata": {
  "kernelspec": {
   "display_name": "Python 3 (ipykernel)",
   "language": "python",
   "name": "python3"
  },
  "language_info": {
   "codemirror_mode": {
    "name": "ipython",
    "version": 3
   },
   "file_extension": ".py",
   "mimetype": "text/x-python",
   "name": "python",
   "nbconvert_exporter": "python",
   "pygments_lexer": "ipython3",
   "version": "3.10.7"
  }
 },
 "nbformat": 4,
 "nbformat_minor": 5
}
